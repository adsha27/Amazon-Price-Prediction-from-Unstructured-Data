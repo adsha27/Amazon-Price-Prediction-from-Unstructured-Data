{
 "cells": [
  {
   "cell_type": "code",
   "execution_count": 1,
   "id": "906f497c",
   "metadata": {},
   "outputs": [
    {
     "name": "stdout",
     "output_type": "stream",
     "text": [
      "Data loaded successfully.\n",
      "Performing feature engineering...\n"
     ]
    },
    {
     "name": "stderr",
     "output_type": "stream",
     "text": [
      "Device set to use mps:0\n"
     ]
    },
    {
     "name": "stdout",
     "output_type": "stream",
     "text": [
      "Loaded categories from cache.\n",
      "All features created.\n",
      "\n",
      "Training V12 model using CPU parallelization...\n",
      "\n",
      "Evaluating V12 model...\n",
      "\n",
      "--- Model Performance ---\n",
      "V12 Model SMAPE (all features, CPU parallel): 51.7495\n"
     ]
    }
   ],
   "source": [
    "import numpy as np\n",
    "import pandas as pd\n",
    "import lightgbm as lgb\n",
    "import re\n",
    "from sklearn.feature_extraction.text import TfidfVectorizer\n",
    "from sklearn.pipeline import Pipeline\n",
    "from sklearn.compose import ColumnTransformer\n",
    "from sklearn.preprocessing import StandardScaler, OneHotEncoder\n",
    "from sklearn.impute import SimpleImputer\n",
    "from sklearn.model_selection import train_test_split\n",
    "from transformers import pipeline as hf_pipeline\n",
    "import warnings\n",
    "warnings.filterwarnings(\"ignore\")\n",
    "\n",
    "# --- 1. Load Data ---\n",
    "# Note: You may need to adjust this path depending on where you launch Jupyter.\n",
    "# It's best to launch Jupyter from your 'Amazon' project root.\n",
    "train_df = pd.read_csv('input/train.csv')\n",
    "train_df = train_df.dropna(subset=['price'])\n",
    "train_df['catalog_content'] = train_df['catalog_content'].astype(str).fillna('')\n",
    "train_df['title'] = train_df['catalog_content'].apply(lambda t: (m.group(1).strip() if (m := re.search(r'^item name:\\s*(.*)', t, re.I | re.M)) else t))\n",
    "print(\"Data loaded successfully.\")\n",
    "\n",
    "# --- 2. Feature Engineering ---\n",
    "print(\"Performing feature engineering...\")\n",
    "# Advanced Categorization\n",
    "classifier = hf_pipeline(\"zero-shot-classification\", model=\"valhalla/distilbart-mnli-12-3\")\n",
    "candidate_labels = ['electronics', 'grocery', 'home goods', 'health & beauty', 'apparel', 'books', 'automotive', 'sports']\n",
    "try:\n",
    "    cached_categories = pd.read_csv('cached_categories_distilbart.csv')\n",
    "    train_df['category'] = cached_categories['category']\n",
    "    print(\"Loaded categories from cache.\")\n",
    "except FileNotFoundError:\n",
    "    titles_to_classify = train_df['title'].tolist()\n",
    "    results = classifier(titles_to_classify, candidate_labels, batch_size=64, multi_label=False)\n",
    "    train_df['category'] = [result['labels'][0] for result in results]\n",
    "    train_df[['category']].to_csv('cached_categories_distilbart.csv', index=False)\n",
    "    print(\"Categorization complete and saved to cache.\")\n",
    "\n",
    "# Brand-Tier Feature\n",
    "train_df['brand'] = train_df['catalog_content'].apply(lambda t: (m.group(1).strip().lower() if (m := re.search(r'^(?:brand|manufacturer):\\s*(.*)', t, re.I | re.M)) and m.group(1) else 'unknown'))\n",
    "avg_price_by_brand = train_df.groupby('brand')['price'].mean().to_dict()\n",
    "train_df['brand_avg_price'] = train_df['brand'].map(avg_price_by_brand).fillna(train_df['price'].median())\n",
    "\n",
    "# Quantity Feature\n",
    "def extract_quantity(text):\n",
    "    text = text.lower(); patterns = [r'pack of (\\d+)', r'(\\d+)\\s*[-]?pack', r'(\\d+)\\s*pk', r'(\\d+)\\s*per case', r'case of (\\d+)', r'(\\d+)\\s*count']\n",
    "    for p in patterns:\n",
    "        m=re.search(p,text)\n",
    "        if m: return int(m.group(1))\n",
    "    return 1\n",
    "train_df['quantity'] = train_df['catalog_content'].apply(extract_quantity)\n",
    "print(\"All features created.\")\n",
    "\n",
    "# --- 3. Create Hold-Out Set ---\n",
    "feature_cols = ['catalog_content', 'category', 'brand_avg_price', 'quantity']\n",
    "X = train_df[feature_cols]\n",
    "y = train_df['price']\n",
    "X_train, X_val, y_train, y_val = train_test_split(X, y, test_size=0.2, random_state=42)\n",
    "y_train_log = np.log1p(y_train)\n",
    "\n",
    "# --- 4. Build the V12 Pipeline ---\n",
    "best_params = { 'objective': 'regression_l1', 'metric': 'mae', 'n_estimators': 761, 'learning_rate': 0.188, 'num_leaves': 41, 'max_depth': 17, 'lambda_l1': 0.04, 'lambda_l2': 2.53e-06, 'feature_fraction': 0.73, 'bagging_fraction': 0.81, 'bagging_freq': 5, 'min_child_samples': 9, 'random_state': 42, 'verbose': -1, 'n_jobs': -1 }\n",
    "numeric_pipeline = Pipeline(steps=[('imputer', SimpleImputer(strategy='median')), ('scaler', StandardScaler())])\n",
    "preprocessor = ColumnTransformer(transformers=[\n",
    "    ('text', TfidfVectorizer(stop_words='english', max_features=30000, ngram_range=(1, 2)), 'catalog_content'),\n",
    "    ('category', OneHotEncoder(handle_unknown='ignore'), ['category']),\n",
    "    ('numeric', numeric_pipeline, ['brand_avg_price', 'quantity'])\n",
    "])\n",
    "pipeline_v12 = Pipeline(steps=[('preprocessor', preprocessor), ('regressor', lgb.LGBMRegressor(**best_params))])\n",
    "\n",
    "# --- 5. Train and Evaluate ---\n",
    "print(\"\\nTraining V12 model using CPU parallelization...\")\n",
    "pipeline_v12.fit(X_train, y_train_log)\n",
    "print(\"\\nEvaluating V12 model...\")\n",
    "val_preds_log = pipeline_v12.predict(X_val)\n",
    "val_preds = np.expm1(val_preds_log)\n",
    "val_preds[val_preds < 0] = 0\n",
    "\n",
    "def smape(y_true, y_pred):\n",
    "    numerator = np.abs(y_pred - y_true)\n",
    "    denominator = (np.abs(y_true) + np.abs(y_pred)) / 2\n",
    "    return np.mean(np.divide(numerator, denominator, out=np.zeros_like(numerator, dtype=float), where=denominator!=0)) * 100\n",
    "\n",
    "v12_smape = smape(y_val, val_preds)\n",
    "\n",
    "print(\"\\n--- Model Performance ---\")\n",
    "print(f\"V12 Model SMAPE (all features, CPU parallel): {v12_smape:.4f}\")"
   ]
  },
  {
   "cell_type": "code",
   "execution_count": null,
   "id": "029f4093",
   "metadata": {},
   "outputs": [],
   "source": []
  }
 ],
 "metadata": {
  "kernelspec": {
   "display_name": "price_predictor",
   "language": "python",
   "name": "python3"
  },
  "language_info": {
   "codemirror_mode": {
    "name": "ipython",
    "version": 3
   },
   "file_extension": ".py",
   "mimetype": "text/x-python",
   "name": "python",
   "nbconvert_exporter": "python",
   "pygments_lexer": "ipython3",
   "version": "3.11.13"
  }
 },
 "nbformat": 4,
 "nbformat_minor": 5
}
