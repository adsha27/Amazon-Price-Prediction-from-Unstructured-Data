{
 "cells": [
  {
   "cell_type": "code",
   "execution_count": 2,
   "id": "a4877728",
   "metadata": {},
   "outputs": [
    {
     "name": "stdout",
     "output_type": "stream",
     "text": [
      "Collecting optuna\n",
      "  Using cached optuna-4.5.0-py3-none-any.whl.metadata (17 kB)\n",
      "Collecting alembic>=1.5.0 (from optuna)\n",
      "  Using cached alembic-1.17.0-py3-none-any.whl.metadata (7.2 kB)\n",
      "Collecting colorlog (from optuna)\n",
      "  Using cached colorlog-6.9.0-py3-none-any.whl.metadata (10 kB)\n",
      "Requirement already satisfied: numpy in /Users/adityasharma/.pyenv/versions/3.11.0/lib/python3.11/site-packages (from optuna) (1.26.4)\n",
      "Requirement already satisfied: packaging>=20.0 in /Users/adityasharma/.pyenv/versions/3.11.0/lib/python3.11/site-packages (from optuna) (25.0)\n",
      "Collecting sqlalchemy>=1.4.2 (from optuna)\n",
      "  Downloading sqlalchemy-2.0.44-cp311-cp311-macosx_11_0_arm64.whl.metadata (9.5 kB)\n",
      "Requirement already satisfied: tqdm in /Users/adityasharma/.pyenv/versions/3.11.0/lib/python3.11/site-packages (from optuna) (4.67.1)\n",
      "Requirement already satisfied: PyYAML in /Users/adityasharma/.pyenv/versions/3.11.0/lib/python3.11/site-packages (from optuna) (6.0.2)\n",
      "Collecting Mako (from alembic>=1.5.0->optuna)\n",
      "  Using cached mako-1.3.10-py3-none-any.whl.metadata (2.9 kB)\n",
      "Requirement already satisfied: typing-extensions>=4.12 in /Users/adityasharma/.pyenv/versions/3.11.0/lib/python3.11/site-packages (from alembic>=1.5.0->optuna) (4.14.0)\n",
      "Requirement already satisfied: MarkupSafe>=0.9.2 in /Users/adityasharma/.pyenv/versions/3.11.0/lib/python3.11/site-packages (from Mako->alembic>=1.5.0->optuna) (3.0.2)\n",
      "Using cached optuna-4.5.0-py3-none-any.whl (400 kB)\n",
      "Using cached alembic-1.17.0-py3-none-any.whl (247 kB)\n",
      "Downloading sqlalchemy-2.0.44-cp311-cp311-macosx_11_0_arm64.whl (2.1 MB)\n",
      "\u001b[2K   \u001b[90m━━━━━━━━━━━━━━━━━━━━━━━━━━━━━━━━━━━━━━━━\u001b[0m \u001b[32m2.1/2.1 MB\u001b[0m \u001b[31m4.8 MB/s\u001b[0m eta \u001b[36m0:00:00\u001b[0ma \u001b[36m0:00:01\u001b[0m\n",
      "\u001b[?25hUsing cached colorlog-6.9.0-py3-none-any.whl (11 kB)\n",
      "Using cached mako-1.3.10-py3-none-any.whl (78 kB)\n",
      "Installing collected packages: sqlalchemy, Mako, colorlog, alembic, optuna\n",
      "\u001b[2K   \u001b[90m━━━━━━━━━━━━━━━━━━━━━━━━━━━━━━━━━━━━━━━━\u001b[0m \u001b[32m5/5\u001b[0m [optuna]2m4/5\u001b[0m [optuna]\n",
      "\u001b[1A\u001b[2KSuccessfully installed Mako-1.3.10 alembic-1.17.0 colorlog-6.9.0 optuna-4.5.0 sqlalchemy-2.0.44\n",
      "\n",
      "\u001b[1m[\u001b[0m\u001b[34;49mnotice\u001b[0m\u001b[1;39;49m]\u001b[0m\u001b[39;49m A new release of pip is available: \u001b[0m\u001b[31;49m25.1.1\u001b[0m\u001b[39;49m -> \u001b[0m\u001b[32;49m25.2\u001b[0m\n",
      "\u001b[1m[\u001b[0m\u001b[34;49mnotice\u001b[0m\u001b[1;39;49m]\u001b[0m\u001b[39;49m To update, run: \u001b[0m\u001b[32;49mpip install --upgrade pip\u001b[0m\n"
     ]
    }
   ],
   "source": [
    "!pip install optuna"
   ]
  },
  {
   "cell_type": "code",
   "execution_count": 2,
   "id": "428ac366",
   "metadata": {},
   "outputs": [
    {
     "name": "stdout",
     "output_type": "stream",
     "text": [
      "Data loaded successfully.\n",
      "Performing one-time text vectorization...\n"
     ]
    },
    {
     "name": "stderr",
     "output_type": "stream",
     "text": [
      "[I 2025-10-12 15:26:21,439] A new study created in memory with name: no-name-c2bde4f9-3df2-4c16-8eac-b727df3188f0\n"
     ]
    },
    {
     "name": "stdout",
     "output_type": "stream",
     "text": [
      "Vectorization complete in 11.38 seconds.\n",
      "Starting hyperparameter tuning with corrected CV loop...\n"
     ]
    },
    {
     "data": {
      "application/vnd.jupyter.widget-view+json": {
       "model_id": "f5899a054a2648f39fedb5f08c6aafd4",
       "version_major": 2,
       "version_minor": 0
      },
      "text/plain": [
       "  0%|          | 0/50 [00:00<?, ?it/s]"
      ]
     },
     "metadata": {},
     "output_type": "display_data"
    },
    {
     "name": "stderr",
     "output_type": "stream",
     "text": [
      "/Users/adityasharma/.pyenv/versions/3.11.0/lib/python3.11/site-packages/sklearn/utils/validation.py:2749: UserWarning: X does not have valid feature names, but LGBMRegressor was fitted with feature names\n",
      "  warnings.warn(\n",
      "/Users/adityasharma/.pyenv/versions/3.11.0/lib/python3.11/site-packages/sklearn/utils/validation.py:2749: UserWarning: X does not have valid feature names, but LGBMRegressor was fitted with feature names\n",
      "  warnings.warn(\n",
      "/Users/adityasharma/.pyenv/versions/3.11.0/lib/python3.11/site-packages/sklearn/utils/validation.py:2749: UserWarning: X does not have valid feature names, but LGBMRegressor was fitted with feature names\n",
      "  warnings.warn(\n"
     ]
    },
    {
     "name": "stdout",
     "output_type": "stream",
     "text": [
      "[I 2025-10-12 15:33:00,413] Trial 0 finished with value: 52.048389827973494 and parameters: {'n_estimators': 733, 'learning_rate': 0.08198315952027863, 'num_leaves': 117, 'max_depth': 16, 'lambda_l1': 0.0016857441144653908, 'lambda_l2': 0.07098321810673829, 'feature_fraction': 0.5332942008839707, 'bagging_fraction': 0.992844478099296, 'bagging_freq': 3, 'min_child_samples': 19}. Best is trial 0 with value: 52.048389827973494.\n"
     ]
    },
    {
     "name": "stderr",
     "output_type": "stream",
     "text": [
      "/Users/adityasharma/.pyenv/versions/3.11.0/lib/python3.11/site-packages/sklearn/utils/validation.py:2749: UserWarning: X does not have valid feature names, but LGBMRegressor was fitted with feature names\n",
      "  warnings.warn(\n",
      "/Users/adityasharma/.pyenv/versions/3.11.0/lib/python3.11/site-packages/sklearn/utils/validation.py:2749: UserWarning: X does not have valid feature names, but LGBMRegressor was fitted with feature names\n",
      "  warnings.warn(\n",
      "/Users/adityasharma/.pyenv/versions/3.11.0/lib/python3.11/site-packages/sklearn/utils/validation.py:2749: UserWarning: X does not have valid feature names, but LGBMRegressor was fitted with feature names\n",
      "  warnings.warn(\n"
     ]
    },
    {
     "name": "stdout",
     "output_type": "stream",
     "text": [
      "[I 2025-10-12 15:34:32,887] Trial 1 finished with value: 55.338562647930644 and parameters: {'n_estimators': 551, 'learning_rate': 0.03183001451473658, 'num_leaves': 23, 'max_depth': 14, 'lambda_l1': 0.0009046848517683148, 'lambda_l2': 0.009754279970631706, 'feature_fraction': 0.5395086593778082, 'bagging_fraction': 0.9517572729019892, 'bagging_freq': 7, 'min_child_samples': 89}. Best is trial 0 with value: 52.048389827973494.\n"
     ]
    },
    {
     "name": "stderr",
     "output_type": "stream",
     "text": [
      "/Users/adityasharma/.pyenv/versions/3.11.0/lib/python3.11/site-packages/sklearn/utils/validation.py:2749: UserWarning: X does not have valid feature names, but LGBMRegressor was fitted with feature names\n",
      "  warnings.warn(\n",
      "/Users/adityasharma/.pyenv/versions/3.11.0/lib/python3.11/site-packages/sklearn/utils/validation.py:2749: UserWarning: X does not have valid feature names, but LGBMRegressor was fitted with feature names\n",
      "  warnings.warn(\n",
      "/Users/adityasharma/.pyenv/versions/3.11.0/lib/python3.11/site-packages/sklearn/utils/validation.py:2749: UserWarning: X does not have valid feature names, but LGBMRegressor was fitted with feature names\n",
      "  warnings.warn(\n"
     ]
    },
    {
     "name": "stdout",
     "output_type": "stream",
     "text": [
      "[I 2025-10-12 15:35:46,872] Trial 2 finished with value: 54.163175003712475 and parameters: {'n_estimators': 399, 'learning_rate': 0.15681284630016798, 'num_leaves': 132, 'max_depth': 6, 'lambda_l1': 0.004925145131117452, 'lambda_l2': 0.00876764746437764, 'feature_fraction': 0.6549276017984942, 'bagging_fraction': 0.5306902555067737, 'bagging_freq': 6, 'min_child_samples': 11}. Best is trial 0 with value: 52.048389827973494.\n"
     ]
    },
    {
     "name": "stderr",
     "output_type": "stream",
     "text": [
      "/Users/adityasharma/.pyenv/versions/3.11.0/lib/python3.11/site-packages/sklearn/utils/validation.py:2749: UserWarning: X does not have valid feature names, but LGBMRegressor was fitted with feature names\n",
      "  warnings.warn(\n",
      "/Users/adityasharma/.pyenv/versions/3.11.0/lib/python3.11/site-packages/sklearn/utils/validation.py:2749: UserWarning: X does not have valid feature names, but LGBMRegressor was fitted with feature names\n",
      "  warnings.warn(\n",
      "/Users/adityasharma/.pyenv/versions/3.11.0/lib/python3.11/site-packages/sklearn/utils/validation.py:2749: UserWarning: X does not have valid feature names, but LGBMRegressor was fitted with feature names\n",
      "  warnings.warn(\n"
     ]
    },
    {
     "name": "stdout",
     "output_type": "stream",
     "text": [
      "[I 2025-10-12 15:37:18,541] Trial 3 finished with value: 54.89717405919885 and parameters: {'n_estimators': 657, 'learning_rate': 0.05010693605877638, 'num_leaves': 20, 'max_depth': 9, 'lambda_l1': 1.4775631764694409e-05, 'lambda_l2': 4.0316840069408474e-06, 'feature_fraction': 0.7593517381302788, 'bagging_fraction': 0.9064103185207653, 'bagging_freq': 3, 'min_child_samples': 85}. Best is trial 0 with value: 52.048389827973494.\n"
     ]
    },
    {
     "name": "stderr",
     "output_type": "stream",
     "text": [
      "/Users/adityasharma/.pyenv/versions/3.11.0/lib/python3.11/site-packages/sklearn/utils/validation.py:2749: UserWarning: X does not have valid feature names, but LGBMRegressor was fitted with feature names\n",
      "  warnings.warn(\n",
      "/Users/adityasharma/.pyenv/versions/3.11.0/lib/python3.11/site-packages/sklearn/utils/validation.py:2749: UserWarning: X does not have valid feature names, but LGBMRegressor was fitted with feature names\n",
      "  warnings.warn(\n",
      "/Users/adityasharma/.pyenv/versions/3.11.0/lib/python3.11/site-packages/sklearn/utils/validation.py:2749: UserWarning: X does not have valid feature names, but LGBMRegressor was fitted with feature names\n",
      "  warnings.warn(\n"
     ]
    },
    {
     "name": "stdout",
     "output_type": "stream",
     "text": [
      "[I 2025-10-12 15:38:00,987] Trial 4 finished with value: 57.934085924634665 and parameters: {'n_estimators': 257, 'learning_rate': 0.01789874753823418, 'num_leaves': 33, 'max_depth': 15, 'lambda_l1': 6.462245951605626e-08, 'lambda_l2': 7.727502066362789e-07, 'feature_fraction': 0.844978505073137, 'bagging_fraction': 0.7161536368393031, 'bagging_freq': 7, 'min_child_samples': 78}. Best is trial 0 with value: 52.048389827973494.\n"
     ]
    },
    {
     "name": "stderr",
     "output_type": "stream",
     "text": [
      "/Users/adityasharma/.pyenv/versions/3.11.0/lib/python3.11/site-packages/sklearn/utils/validation.py:2749: UserWarning: X does not have valid feature names, but LGBMRegressor was fitted with feature names\n",
      "  warnings.warn(\n",
      "/Users/adityasharma/.pyenv/versions/3.11.0/lib/python3.11/site-packages/sklearn/utils/validation.py:2749: UserWarning: X does not have valid feature names, but LGBMRegressor was fitted with feature names\n",
      "  warnings.warn(\n",
      "/Users/adityasharma/.pyenv/versions/3.11.0/lib/python3.11/site-packages/sklearn/utils/validation.py:2749: UserWarning: X does not have valid feature names, but LGBMRegressor was fitted with feature names\n",
      "  warnings.warn(\n"
     ]
    },
    {
     "name": "stdout",
     "output_type": "stream",
     "text": [
      "[I 2025-10-12 15:43:57,164] Trial 5 finished with value: 54.464350386636816 and parameters: {'n_estimators': 450, 'learning_rate': 0.02449640129777551, 'num_leaves': 67, 'max_depth': 17, 'lambda_l1': 1.5846858684339892e-06, 'lambda_l2': 0.002002287030420628, 'feature_fraction': 0.7377070985960457, 'bagging_fraction': 0.9375673405561655, 'bagging_freq': 2, 'min_child_samples': 10}. Best is trial 0 with value: 52.048389827973494.\n"
     ]
    },
    {
     "name": "stderr",
     "output_type": "stream",
     "text": [
      "/Users/adityasharma/.pyenv/versions/3.11.0/lib/python3.11/site-packages/sklearn/utils/validation.py:2749: UserWarning: X does not have valid feature names, but LGBMRegressor was fitted with feature names\n",
      "  warnings.warn(\n",
      "/Users/adityasharma/.pyenv/versions/3.11.0/lib/python3.11/site-packages/sklearn/utils/validation.py:2749: UserWarning: X does not have valid feature names, but LGBMRegressor was fitted with feature names\n",
      "  warnings.warn(\n",
      "/Users/adityasharma/.pyenv/versions/3.11.0/lib/python3.11/site-packages/sklearn/utils/validation.py:2749: UserWarning: X does not have valid feature names, but LGBMRegressor was fitted with feature names\n",
      "  warnings.warn(\n"
     ]
    },
    {
     "name": "stdout",
     "output_type": "stream",
     "text": [
      "[I 2025-10-12 15:49:21,546] Trial 6 finished with value: 53.00893033131367 and parameters: {'n_estimators': 658, 'learning_rate': 0.15504898227345387, 'num_leaves': 34, 'max_depth': 7, 'lambda_l1': 2.9041142726174855e-05, 'lambda_l2': 1.0060309964538902e-06, 'feature_fraction': 0.5914327162392794, 'bagging_fraction': 0.8065777630663544, 'bagging_freq': 1, 'min_child_samples': 24}. Best is trial 0 with value: 52.048389827973494.\n"
     ]
    },
    {
     "name": "stderr",
     "output_type": "stream",
     "text": [
      "/Users/adityasharma/.pyenv/versions/3.11.0/lib/python3.11/site-packages/sklearn/utils/validation.py:2749: UserWarning: X does not have valid feature names, but LGBMRegressor was fitted with feature names\n",
      "  warnings.warn(\n",
      "/Users/adityasharma/.pyenv/versions/3.11.0/lib/python3.11/site-packages/sklearn/utils/validation.py:2749: UserWarning: X does not have valid feature names, but LGBMRegressor was fitted with feature names\n",
      "  warnings.warn(\n",
      "/Users/adityasharma/.pyenv/versions/3.11.0/lib/python3.11/site-packages/sklearn/utils/validation.py:2749: UserWarning: X does not have valid feature names, but LGBMRegressor was fitted with feature names\n",
      "  warnings.warn(\n"
     ]
    },
    {
     "name": "stdout",
     "output_type": "stream",
     "text": [
      "[I 2025-10-12 15:51:48,981] Trial 7 finished with value: 54.635725220079905 and parameters: {'n_estimators': 690, 'learning_rate': 0.040251061684055366, 'num_leaves': 41, 'max_depth': 8, 'lambda_l1': 1.5082103400852898e-08, 'lambda_l2': 0.04017231767165196, 'feature_fraction': 0.9834866424796691, 'bagging_fraction': 0.7698232982489269, 'bagging_freq': 7, 'min_child_samples': 13}. Best is trial 0 with value: 52.048389827973494.\n"
     ]
    },
    {
     "name": "stderr",
     "output_type": "stream",
     "text": [
      "/Users/adityasharma/.pyenv/versions/3.11.0/lib/python3.11/site-packages/sklearn/utils/validation.py:2749: UserWarning: X does not have valid feature names, but LGBMRegressor was fitted with feature names\n",
      "  warnings.warn(\n",
      "/Users/adityasharma/.pyenv/versions/3.11.0/lib/python3.11/site-packages/sklearn/utils/validation.py:2749: UserWarning: X does not have valid feature names, but LGBMRegressor was fitted with feature names\n",
      "  warnings.warn(\n",
      "/Users/adityasharma/.pyenv/versions/3.11.0/lib/python3.11/site-packages/sklearn/utils/validation.py:2749: UserWarning: X does not have valid feature names, but LGBMRegressor was fitted with feature names\n",
      "  warnings.warn(\n"
     ]
    },
    {
     "name": "stdout",
     "output_type": "stream",
     "text": [
      "[I 2025-10-12 15:57:28,004] Trial 8 finished with value: 54.00338208686669 and parameters: {'n_estimators': 786, 'learning_rate': 0.029630340587709726, 'num_leaves': 42, 'max_depth': 10, 'lambda_l1': 9.483587978091792, 'lambda_l2': 0.0008777064313964547, 'feature_fraction': 0.5349555028392048, 'bagging_fraction': 0.7846563965851572, 'bagging_freq': 4, 'min_child_samples': 21}. Best is trial 0 with value: 52.048389827973494.\n"
     ]
    },
    {
     "name": "stderr",
     "output_type": "stream",
     "text": [
      "/Users/adityasharma/.pyenv/versions/3.11.0/lib/python3.11/site-packages/sklearn/utils/validation.py:2749: UserWarning: X does not have valid feature names, but LGBMRegressor was fitted with feature names\n",
      "  warnings.warn(\n",
      "/Users/adityasharma/.pyenv/versions/3.11.0/lib/python3.11/site-packages/sklearn/utils/validation.py:2749: UserWarning: X does not have valid feature names, but LGBMRegressor was fitted with feature names\n",
      "  warnings.warn(\n",
      "/Users/adityasharma/.pyenv/versions/3.11.0/lib/python3.11/site-packages/sklearn/utils/validation.py:2749: UserWarning: X does not have valid feature names, but LGBMRegressor was fitted with feature names\n",
      "  warnings.warn(\n"
     ]
    },
    {
     "name": "stdout",
     "output_type": "stream",
     "text": [
      "[I 2025-10-12 15:59:43,757] Trial 9 finished with value: 52.874164326110815 and parameters: {'n_estimators': 274, 'learning_rate': 0.13535383264923204, 'num_leaves': 148, 'max_depth': 20, 'lambda_l1': 1.997917251880012e-07, 'lambda_l2': 4.408838210194707e-07, 'feature_fraction': 0.9580156738255845, 'bagging_fraction': 0.5452506945164879, 'bagging_freq': 5, 'min_child_samples': 9}. Best is trial 0 with value: 52.048389827973494.\n"
     ]
    },
    {
     "name": "stderr",
     "output_type": "stream",
     "text": [
      "/Users/adityasharma/.pyenv/versions/3.11.0/lib/python3.11/site-packages/sklearn/utils/validation.py:2749: UserWarning: X does not have valid feature names, but LGBMRegressor was fitted with feature names\n",
      "  warnings.warn(\n",
      "/Users/adityasharma/.pyenv/versions/3.11.0/lib/python3.11/site-packages/sklearn/utils/validation.py:2749: UserWarning: X does not have valid feature names, but LGBMRegressor was fitted with feature names\n",
      "  warnings.warn(\n",
      "/Users/adityasharma/.pyenv/versions/3.11.0/lib/python3.11/site-packages/sklearn/utils/validation.py:2749: UserWarning: X does not have valid feature names, but LGBMRegressor was fitted with feature names\n",
      "  warnings.warn(\n"
     ]
    },
    {
     "name": "stdout",
     "output_type": "stream",
     "text": [
      "[I 2025-10-12 16:01:54,029] Trial 10 finished with value: 55.2385038596564 and parameters: {'n_estimators': 963, 'learning_rate': 0.08815813376694949, 'num_leaves': 105, 'max_depth': 3, 'lambda_l1': 0.10281813360584742, 'lambda_l2': 6.353745548691596, 'feature_fraction': 0.6513905695393342, 'bagging_fraction': 0.6641262882431576, 'bagging_freq': 3, 'min_child_samples': 42}. Best is trial 0 with value: 52.048389827973494.\n"
     ]
    },
    {
     "name": "stderr",
     "output_type": "stream",
     "text": [
      "/Users/adityasharma/.pyenv/versions/3.11.0/lib/python3.11/site-packages/sklearn/utils/validation.py:2749: UserWarning: X does not have valid feature names, but LGBMRegressor was fitted with feature names\n",
      "  warnings.warn(\n",
      "/Users/adityasharma/.pyenv/versions/3.11.0/lib/python3.11/site-packages/sklearn/utils/validation.py:2749: UserWarning: X does not have valid feature names, but LGBMRegressor was fitted with feature names\n",
      "  warnings.warn(\n",
      "/Users/adityasharma/.pyenv/versions/3.11.0/lib/python3.11/site-packages/sklearn/utils/validation.py:2749: UserWarning: X does not have valid feature names, but LGBMRegressor was fitted with feature names\n",
      "  warnings.warn(\n"
     ]
    },
    {
     "name": "stdout",
     "output_type": "stream",
     "text": [
      "[I 2025-10-12 16:04:53,151] Trial 11 finished with value: 52.91651636622081 and parameters: {'n_estimators': 852, 'learning_rate': 0.11437641208610057, 'num_leaves': 148, 'max_depth': 20, 'lambda_l1': 0.05856351394563779, 'lambda_l2': 1.089843652877875e-08, 'feature_fraction': 0.9893889916584824, 'bagging_fraction': 0.5311067562477896, 'bagging_freq': 5, 'min_child_samples': 46}. Best is trial 0 with value: 52.048389827973494.\n"
     ]
    },
    {
     "name": "stderr",
     "output_type": "stream",
     "text": [
      "/Users/adityasharma/.pyenv/versions/3.11.0/lib/python3.11/site-packages/sklearn/utils/validation.py:2749: UserWarning: X does not have valid feature names, but LGBMRegressor was fitted with feature names\n",
      "  warnings.warn(\n",
      "/Users/adityasharma/.pyenv/versions/3.11.0/lib/python3.11/site-packages/sklearn/utils/validation.py:2749: UserWarning: X does not have valid feature names, but LGBMRegressor was fitted with feature names\n",
      "  warnings.warn(\n",
      "/Users/adityasharma/.pyenv/versions/3.11.0/lib/python3.11/site-packages/sklearn/utils/validation.py:2749: UserWarning: X does not have valid feature names, but LGBMRegressor was fitted with feature names\n",
      "  warnings.warn(\n"
     ]
    },
    {
     "name": "stdout",
     "output_type": "stream",
     "text": [
      "[I 2025-10-12 16:06:38,132] Trial 12 finished with value: 53.01155598955475 and parameters: {'n_estimators': 328, 'learning_rate': 0.19310849302515154, 'num_leaves': 113, 'max_depth': 20, 'lambda_l1': 3.1151655213799534e-07, 'lambda_l2': 1.0599094526131163, 'feature_fraction': 0.9035175126586736, 'bagging_fraction': 0.646571691083367, 'bagging_freq': 5, 'min_child_samples': 33}. Best is trial 0 with value: 52.048389827973494.\n"
     ]
    },
    {
     "name": "stderr",
     "output_type": "stream",
     "text": [
      "/Users/adityasharma/.pyenv/versions/3.11.0/lib/python3.11/site-packages/sklearn/utils/validation.py:2749: UserWarning: X does not have valid feature names, but LGBMRegressor was fitted with feature names\n",
      "  warnings.warn(\n",
      "/Users/adityasharma/.pyenv/versions/3.11.0/lib/python3.11/site-packages/sklearn/utils/validation.py:2749: UserWarning: X does not have valid feature names, but LGBMRegressor was fitted with feature names\n",
      "  warnings.warn(\n",
      "/Users/adityasharma/.pyenv/versions/3.11.0/lib/python3.11/site-packages/sklearn/utils/validation.py:2749: UserWarning: X does not have valid feature names, but LGBMRegressor was fitted with feature names\n",
      "  warnings.warn(\n"
     ]
    },
    {
     "name": "stdout",
     "output_type": "stream",
     "text": [
      "[I 2025-10-12 16:08:15,322] Trial 13 finished with value: 53.01394895769732 and parameters: {'n_estimators': 526, 'learning_rate': 0.0847696248330854, 'num_leaves': 124, 'max_depth': 17, 'lambda_l1': 8.376447665856657e-05, 'lambda_l2': 3.970914783364363e-05, 'feature_fraction': 0.8018769121175491, 'bagging_fraction': 0.8552673854307224, 'bagging_freq': 4, 'min_child_samples': 65}. Best is trial 0 with value: 52.048389827973494.\n"
     ]
    },
    {
     "name": "stderr",
     "output_type": "stream",
     "text": [
      "/Users/adityasharma/.pyenv/versions/3.11.0/lib/python3.11/site-packages/sklearn/utils/validation.py:2749: UserWarning: X does not have valid feature names, but LGBMRegressor was fitted with feature names\n",
      "  warnings.warn(\n",
      "/Users/adityasharma/.pyenv/versions/3.11.0/lib/python3.11/site-packages/sklearn/utils/validation.py:2749: UserWarning: X does not have valid feature names, but LGBMRegressor was fitted with feature names\n",
      "  warnings.warn(\n",
      "/Users/adityasharma/.pyenv/versions/3.11.0/lib/python3.11/site-packages/sklearn/utils/validation.py:2749: UserWarning: X does not have valid feature names, but LGBMRegressor was fitted with feature names\n",
      "  warnings.warn(\n"
     ]
    },
    {
     "name": "stdout",
     "output_type": "stream",
     "text": [
      "[I 2025-10-12 16:08:51,329] Trial 14 finished with value: 54.249382541220314 and parameters: {'n_estimators': 216, 'learning_rate': 0.12776470139585205, 'num_leaves': 150, 'max_depth': 13, 'lambda_l1': 2.0689603338247407e-06, 'lambda_l2': 1.0104060601527536e-08, 'feature_fraction': 0.6813069391188888, 'bagging_fraction': 0.5927085104172978, 'bagging_freq': 3, 'min_child_samples': 60}. Best is trial 0 with value: 52.048389827973494.\n"
     ]
    },
    {
     "name": "stderr",
     "output_type": "stream",
     "text": [
      "/Users/adityasharma/.pyenv/versions/3.11.0/lib/python3.11/site-packages/sklearn/utils/validation.py:2749: UserWarning: X does not have valid feature names, but LGBMRegressor was fitted with feature names\n",
      "  warnings.warn(\n",
      "/Users/adityasharma/.pyenv/versions/3.11.0/lib/python3.11/site-packages/sklearn/utils/validation.py:2749: UserWarning: X does not have valid feature names, but LGBMRegressor was fitted with feature names\n",
      "  warnings.warn(\n",
      "/Users/adityasharma/.pyenv/versions/3.11.0/lib/python3.11/site-packages/sklearn/utils/validation.py:2749: UserWarning: X does not have valid feature names, but LGBMRegressor was fitted with feature names\n",
      "  warnings.warn(\n"
     ]
    },
    {
     "name": "stdout",
     "output_type": "stream",
     "text": [
      "[I 2025-10-12 16:12:25,649] Trial 15 finished with value: 52.34823025399362 and parameters: {'n_estimators': 790, 'learning_rate': 0.0649844820995639, 'num_leaves': 88, 'max_depth': 17, 'lambda_l1': 0.0022212509807529356, 'lambda_l2': 0.4629398489586598, 'feature_fraction': 0.8827472818540417, 'bagging_fraction': 0.9972403390997817, 'bagging_freq': 5, 'min_child_samples': 33}. Best is trial 0 with value: 52.048389827973494.\n"
     ]
    },
    {
     "name": "stderr",
     "output_type": "stream",
     "text": [
      "/Users/adityasharma/.pyenv/versions/3.11.0/lib/python3.11/site-packages/sklearn/utils/validation.py:2749: UserWarning: X does not have valid feature names, but LGBMRegressor was fitted with feature names\n",
      "  warnings.warn(\n",
      "/Users/adityasharma/.pyenv/versions/3.11.0/lib/python3.11/site-packages/sklearn/utils/validation.py:2749: UserWarning: X does not have valid feature names, but LGBMRegressor was fitted with feature names\n",
      "  warnings.warn(\n",
      "/Users/adityasharma/.pyenv/versions/3.11.0/lib/python3.11/site-packages/sklearn/utils/validation.py:2749: UserWarning: X does not have valid feature names, but LGBMRegressor was fitted with feature names\n",
      "  warnings.warn(\n"
     ]
    },
    {
     "name": "stdout",
     "output_type": "stream",
     "text": [
      "[I 2025-10-12 16:15:09,139] Trial 16 finished with value: 52.22975772615115 and parameters: {'n_estimators': 807, 'learning_rate': 0.06237131350004463, 'num_leaves': 87, 'max_depth': 17, 'lambda_l1': 0.011342300567838507, 'lambda_l2': 0.22323178716526274, 'feature_fraction': 0.8966402089435368, 'bagging_fraction': 0.8762603807918337, 'bagging_freq': 1, 'min_child_samples': 34}. Best is trial 0 with value: 52.048389827973494.\n"
     ]
    },
    {
     "name": "stderr",
     "output_type": "stream",
     "text": [
      "/Users/adityasharma/.pyenv/versions/3.11.0/lib/python3.11/site-packages/sklearn/utils/validation.py:2749: UserWarning: X does not have valid feature names, but LGBMRegressor was fitted with feature names\n",
      "  warnings.warn(\n",
      "/Users/adityasharma/.pyenv/versions/3.11.0/lib/python3.11/site-packages/sklearn/utils/validation.py:2749: UserWarning: X does not have valid feature names, but LGBMRegressor was fitted with feature names\n",
      "  warnings.warn(\n",
      "/Users/adityasharma/.pyenv/versions/3.11.0/lib/python3.11/site-packages/sklearn/utils/validation.py:2749: UserWarning: X does not have valid feature names, but LGBMRegressor was fitted with feature names\n",
      "  warnings.warn(\n"
     ]
    },
    {
     "name": "stdout",
     "output_type": "stream",
     "text": [
      "[I 2025-10-12 16:18:55,557] Trial 17 finished with value: 52.423935502687044 and parameters: {'n_estimators': 991, 'learning_rate': 0.06846501555207626, 'num_leaves': 79, 'max_depth': 12, 'lambda_l1': 0.13540856256083278, 'lambda_l2': 0.35682107725644663, 'feature_fraction': 0.5949517620853604, 'bagging_fraction': 0.872636952430023, 'bagging_freq': 1, 'min_child_samples': 35}. Best is trial 0 with value: 52.048389827973494.\n"
     ]
    },
    {
     "name": "stderr",
     "output_type": "stream",
     "text": [
      "/Users/adityasharma/.pyenv/versions/3.11.0/lib/python3.11/site-packages/sklearn/utils/validation.py:2749: UserWarning: X does not have valid feature names, but LGBMRegressor was fitted with feature names\n",
      "  warnings.warn(\n",
      "/Users/adityasharma/.pyenv/versions/3.11.0/lib/python3.11/site-packages/sklearn/utils/validation.py:2749: UserWarning: X does not have valid feature names, but LGBMRegressor was fitted with feature names\n",
      "  warnings.warn(\n",
      "/Users/adityasharma/.pyenv/versions/3.11.0/lib/python3.11/site-packages/sklearn/utils/validation.py:2749: UserWarning: X does not have valid feature names, but LGBMRegressor was fitted with feature names\n",
      "  warnings.warn(\n"
     ]
    },
    {
     "name": "stdout",
     "output_type": "stream",
     "text": [
      "[I 2025-10-12 16:24:15,651] Trial 18 finished with value: 52.33089882904019 and parameters: {'n_estimators': 877, 'learning_rate': 0.09547923755486022, 'num_leaves': 96, 'max_depth': 16, 'lambda_l1': 5.429240788569325, 'lambda_l2': 0.00016174859448344473, 'feature_fraction': 0.502780913069228, 'bagging_fraction': 0.9986501040397147, 'bagging_freq': 2, 'min_child_samples': 55}. Best is trial 0 with value: 52.048389827973494.\n"
     ]
    },
    {
     "name": "stderr",
     "output_type": "stream",
     "text": [
      "/Users/adityasharma/.pyenv/versions/3.11.0/lib/python3.11/site-packages/sklearn/utils/validation.py:2749: UserWarning: X does not have valid feature names, but LGBMRegressor was fitted with feature names\n",
      "  warnings.warn(\n",
      "/Users/adityasharma/.pyenv/versions/3.11.0/lib/python3.11/site-packages/sklearn/utils/validation.py:2749: UserWarning: X does not have valid feature names, but LGBMRegressor was fitted with feature names\n",
      "  warnings.warn(\n",
      "/Users/adityasharma/.pyenv/versions/3.11.0/lib/python3.11/site-packages/sklearn/utils/validation.py:2749: UserWarning: X does not have valid feature names, but LGBMRegressor was fitted with feature names\n",
      "  warnings.warn(\n"
     ]
    },
    {
     "name": "stdout",
     "output_type": "stream",
     "text": [
      "[I 2025-10-12 16:29:43,509] Trial 19 finished with value: 52.20766231229904 and parameters: {'n_estimators': 736, 'learning_rate': 0.06248533584377633, 'num_leaves': 61, 'max_depth': 18, 'lambda_l1': 0.02102127074451932, 'lambda_l2': 0.08217530528459814, 'feature_fraction': 0.7429955890765441, 'bagging_fraction': 0.8392902308190193, 'bagging_freq': 2, 'min_child_samples': 24}. Best is trial 0 with value: 52.048389827973494.\n"
     ]
    },
    {
     "name": "stderr",
     "output_type": "stream",
     "text": [
      "/Users/adityasharma/.pyenv/versions/3.11.0/lib/python3.11/site-packages/sklearn/utils/validation.py:2749: UserWarning: X does not have valid feature names, but LGBMRegressor was fitted with feature names\n",
      "  warnings.warn(\n",
      "/Users/adityasharma/.pyenv/versions/3.11.0/lib/python3.11/site-packages/sklearn/utils/validation.py:2749: UserWarning: X does not have valid feature names, but LGBMRegressor was fitted with feature names\n",
      "  warnings.warn(\n",
      "/Users/adityasharma/.pyenv/versions/3.11.0/lib/python3.11/site-packages/sklearn/utils/validation.py:2749: UserWarning: X does not have valid feature names, but LGBMRegressor was fitted with feature names\n",
      "  warnings.warn(\n"
     ]
    },
    {
     "name": "stdout",
     "output_type": "stream",
     "text": [
      "[I 2025-10-12 16:34:39,200] Trial 20 finished with value: 52.29047584707092 and parameters: {'n_estimators': 725, 'learning_rate': 0.10862096285881444, 'num_leaves': 64, 'max_depth': 11, 'lambda_l1': 1.2562781272093047, 'lambda_l2': 6.964699532680586, 'feature_fraction': 0.7191330038167927, 'bagging_fraction': 0.8296539819168631, 'bagging_freq': 2, 'min_child_samples': 22}. Best is trial 0 with value: 52.048389827973494.\n"
     ]
    },
    {
     "name": "stderr",
     "output_type": "stream",
     "text": [
      "/Users/adityasharma/.pyenv/versions/3.11.0/lib/python3.11/site-packages/sklearn/utils/validation.py:2749: UserWarning: X does not have valid feature names, but LGBMRegressor was fitted with feature names\n",
      "  warnings.warn(\n",
      "/Users/adityasharma/.pyenv/versions/3.11.0/lib/python3.11/site-packages/sklearn/utils/validation.py:2749: UserWarning: X does not have valid feature names, but LGBMRegressor was fitted with feature names\n",
      "  warnings.warn(\n",
      "/Users/adityasharma/.pyenv/versions/3.11.0/lib/python3.11/site-packages/sklearn/utils/validation.py:2749: UserWarning: X does not have valid feature names, but LGBMRegressor was fitted with feature names\n",
      "  warnings.warn(\n"
     ]
    },
    {
     "name": "stdout",
     "output_type": "stream",
     "text": [
      "[I 2025-10-12 16:37:23,802] Trial 21 finished with value: 52.18459956961237 and parameters: {'n_estimators': 771, 'learning_rate': 0.06678502502680984, 'num_leaves': 59, 'max_depth': 19, 'lambda_l1': 0.013689990927146392, 'lambda_l2': 0.0705642353234421, 'feature_fraction': 0.7962202467080445, 'bagging_fraction': 0.9148977860943555, 'bagging_freq': 1, 'min_child_samples': 29}. Best is trial 0 with value: 52.048389827973494.\n"
     ]
    },
    {
     "name": "stderr",
     "output_type": "stream",
     "text": [
      "/Users/adityasharma/.pyenv/versions/3.11.0/lib/python3.11/site-packages/sklearn/utils/validation.py:2749: UserWarning: X does not have valid feature names, but LGBMRegressor was fitted with feature names\n",
      "  warnings.warn(\n",
      "/Users/adityasharma/.pyenv/versions/3.11.0/lib/python3.11/site-packages/sklearn/utils/validation.py:2749: UserWarning: X does not have valid feature names, but LGBMRegressor was fitted with feature names\n",
      "  warnings.warn(\n",
      "/Users/adityasharma/.pyenv/versions/3.11.0/lib/python3.11/site-packages/sklearn/utils/validation.py:2749: UserWarning: X does not have valid feature names, but LGBMRegressor was fitted with feature names\n",
      "  warnings.warn(\n"
     ]
    },
    {
     "name": "stdout",
     "output_type": "stream",
     "text": [
      "[I 2025-10-12 16:42:19,175] Trial 22 finished with value: 52.22048426225793 and parameters: {'n_estimators': 599, 'learning_rate': 0.07878226572115893, 'num_leaves': 55, 'max_depth': 19, 'lambda_l1': 0.0003623667424880881, 'lambda_l2': 0.033600083806630196, 'feature_fraction': 0.7982799229190625, 'bagging_fraction': 0.928814753309334, 'bagging_freq': 2, 'min_child_samples': 23}. Best is trial 0 with value: 52.048389827973494.\n"
     ]
    },
    {
     "name": "stderr",
     "output_type": "stream",
     "text": [
      "/Users/adityasharma/.pyenv/versions/3.11.0/lib/python3.11/site-packages/sklearn/utils/validation.py:2749: UserWarning: X does not have valid feature names, but LGBMRegressor was fitted with feature names\n",
      "  warnings.warn(\n",
      "/Users/adityasharma/.pyenv/versions/3.11.0/lib/python3.11/site-packages/sklearn/utils/validation.py:2749: UserWarning: X does not have valid feature names, but LGBMRegressor was fitted with feature names\n",
      "  warnings.warn(\n",
      "/Users/adityasharma/.pyenv/versions/3.11.0/lib/python3.11/site-packages/sklearn/utils/validation.py:2749: UserWarning: X does not have valid feature names, but LGBMRegressor was fitted with feature names\n",
      "  warnings.warn(\n"
     ]
    },
    {
     "name": "stdout",
     "output_type": "stream",
     "text": [
      "[I 2025-10-12 16:46:29,554] Trial 23 finished with value: 52.490506631766074 and parameters: {'n_estimators': 915, 'learning_rate': 0.05285296724585571, 'num_leaves': 74, 'max_depth': 18, 'lambda_l1': 0.014944040280401187, 'lambda_l2': 0.074667881219347, 'feature_fraction': 0.8018953698806848, 'bagging_fraction': 0.9794532625752265, 'bagging_freq': 3, 'min_child_samples': 44}. Best is trial 0 with value: 52.048389827973494.\n"
     ]
    },
    {
     "name": "stderr",
     "output_type": "stream",
     "text": [
      "/Users/adityasharma/.pyenv/versions/3.11.0/lib/python3.11/site-packages/sklearn/utils/validation.py:2749: UserWarning: X does not have valid feature names, but LGBMRegressor was fitted with feature names\n",
      "  warnings.warn(\n",
      "/Users/adityasharma/.pyenv/versions/3.11.0/lib/python3.11/site-packages/sklearn/utils/validation.py:2749: UserWarning: X does not have valid feature names, but LGBMRegressor was fitted with feature names\n",
      "  warnings.warn(\n",
      "/Users/adityasharma/.pyenv/versions/3.11.0/lib/python3.11/site-packages/sklearn/utils/validation.py:2749: UserWarning: X does not have valid feature names, but LGBMRegressor was fitted with feature names\n",
      "  warnings.warn(\n"
     ]
    },
    {
     "name": "stdout",
     "output_type": "stream",
     "text": [
      "[I 2025-10-12 16:49:52,594] Trial 24 finished with value: 52.01927680516646 and parameters: {'n_estimators': 721, 'learning_rate': 0.07597314987924016, 'num_leaves': 58, 'max_depth': 15, 'lambda_l1': 0.5402464019056898, 'lambda_l2': 0.008291204252382847, 'feature_fraction': 0.6091946058375886, 'bagging_fraction': 0.9009113152577919, 'bagging_freq': 1, 'min_child_samples': 5}. Best is trial 24 with value: 52.01927680516646.\n"
     ]
    },
    {
     "name": "stderr",
     "output_type": "stream",
     "text": [
      "/Users/adityasharma/.pyenv/versions/3.11.0/lib/python3.11/site-packages/sklearn/utils/validation.py:2749: UserWarning: X does not have valid feature names, but LGBMRegressor was fitted with feature names\n",
      "  warnings.warn(\n",
      "/Users/adityasharma/.pyenv/versions/3.11.0/lib/python3.11/site-packages/sklearn/utils/validation.py:2749: UserWarning: X does not have valid feature names, but LGBMRegressor was fitted with feature names\n",
      "  warnings.warn(\n",
      "/Users/adityasharma/.pyenv/versions/3.11.0/lib/python3.11/site-packages/sklearn/utils/validation.py:2749: UserWarning: X does not have valid feature names, but LGBMRegressor was fitted with feature names\n",
      "  warnings.warn(\n"
     ]
    },
    {
     "name": "stdout",
     "output_type": "stream",
     "text": [
      "[I 2025-10-12 16:52:22,433] Trial 25 finished with value: 52.164445459489286 and parameters: {'n_estimators': 633, 'learning_rate': 0.09660578479696241, 'num_leaves': 53, 'max_depth': 14, 'lambda_l1': 0.6048819089875113, 'lambda_l2': 0.00441617445217989, 'feature_fraction': 0.6085227292363912, 'bagging_fraction': 0.8940262194947993, 'bagging_freq': 1, 'min_child_samples': 16}. Best is trial 24 with value: 52.01927680516646.\n"
     ]
    },
    {
     "name": "stderr",
     "output_type": "stream",
     "text": [
      "/Users/adityasharma/.pyenv/versions/3.11.0/lib/python3.11/site-packages/sklearn/utils/validation.py:2749: UserWarning: X does not have valid feature names, but LGBMRegressor was fitted with feature names\n",
      "  warnings.warn(\n",
      "/Users/adityasharma/.pyenv/versions/3.11.0/lib/python3.11/site-packages/sklearn/utils/validation.py:2749: UserWarning: X does not have valid feature names, but LGBMRegressor was fitted with feature names\n",
      "  warnings.warn(\n",
      "/Users/adityasharma/.pyenv/versions/3.11.0/lib/python3.11/site-packages/sklearn/utils/validation.py:2749: UserWarning: X does not have valid feature names, but LGBMRegressor was fitted with feature names\n",
      "  warnings.warn(\n"
     ]
    },
    {
     "name": "stdout",
     "output_type": "stream",
     "text": [
      "[I 2025-10-12 16:55:56,809] Trial 26 finished with value: 52.119088507445305 and parameters: {'n_estimators': 581, 'learning_rate': 0.1004281465790396, 'num_leaves': 47, 'max_depth': 15, 'lambda_l1': 0.5712679594435989, 'lambda_l2': 0.005240295619654959, 'feature_fraction': 0.5980903533676047, 'bagging_fraction': 0.7241474310425977, 'bagging_freq': 1, 'min_child_samples': 5}. Best is trial 24 with value: 52.01927680516646.\n"
     ]
    },
    {
     "name": "stderr",
     "output_type": "stream",
     "text": [
      "/Users/adityasharma/.pyenv/versions/3.11.0/lib/python3.11/site-packages/sklearn/utils/validation.py:2749: UserWarning: X does not have valid feature names, but LGBMRegressor was fitted with feature names\n",
      "  warnings.warn(\n",
      "/Users/adityasharma/.pyenv/versions/3.11.0/lib/python3.11/site-packages/sklearn/utils/validation.py:2749: UserWarning: X does not have valid feature names, but LGBMRegressor was fitted with feature names\n",
      "  warnings.warn(\n",
      "/Users/adityasharma/.pyenv/versions/3.11.0/lib/python3.11/site-packages/sklearn/utils/validation.py:2749: UserWarning: X does not have valid feature names, but LGBMRegressor was fitted with feature names\n",
      "  warnings.warn(\n"
     ]
    },
    {
     "name": "stdout",
     "output_type": "stream",
     "text": [
      "[I 2025-10-12 17:00:21,616] Trial 27 finished with value: 52.27353689313778 and parameters: {'n_estimators': 510, 'learning_rate': 0.11925044338390386, 'num_leaves': 44, 'max_depth': 15, 'lambda_l1': 0.6450004665898827, 'lambda_l2': 0.00047952133254184156, 'feature_fraction': 0.567204844214374, 'bagging_fraction': 0.7006878996553175, 'bagging_freq': 4, 'min_child_samples': 5}. Best is trial 24 with value: 52.01927680516646.\n"
     ]
    },
    {
     "name": "stderr",
     "output_type": "stream",
     "text": [
      "/Users/adityasharma/.pyenv/versions/3.11.0/lib/python3.11/site-packages/sklearn/utils/validation.py:2749: UserWarning: X does not have valid feature names, but LGBMRegressor was fitted with feature names\n",
      "  warnings.warn(\n",
      "/Users/adityasharma/.pyenv/versions/3.11.0/lib/python3.11/site-packages/sklearn/utils/validation.py:2749: UserWarning: X does not have valid feature names, but LGBMRegressor was fitted with feature names\n",
      "  warnings.warn(\n",
      "/Users/adityasharma/.pyenv/versions/3.11.0/lib/python3.11/site-packages/sklearn/utils/validation.py:2749: UserWarning: X does not have valid feature names, but LGBMRegressor was fitted with feature names\n",
      "  warnings.warn(\n"
     ]
    },
    {
     "name": "stdout",
     "output_type": "stream",
     "text": [
      "[I 2025-10-12 17:05:12,388] Trial 28 finished with value: 52.18004775783056 and parameters: {'n_estimators': 579, 'learning_rate': 0.14540494851755914, 'num_leaves': 98, 'max_depth': 12, 'lambda_l1': 2.0619469212830714, 'lambda_l2': 8.371833615990022e-05, 'feature_fraction': 0.637723260526406, 'bagging_fraction': 0.7337458713619914, 'bagging_freq': 2, 'min_child_samples': 5}. Best is trial 24 with value: 52.01927680516646.\n"
     ]
    },
    {
     "name": "stderr",
     "output_type": "stream",
     "text": [
      "/Users/adityasharma/.pyenv/versions/3.11.0/lib/python3.11/site-packages/sklearn/utils/validation.py:2749: UserWarning: X does not have valid feature names, but LGBMRegressor was fitted with feature names\n",
      "  warnings.warn(\n",
      "/Users/adityasharma/.pyenv/versions/3.11.0/lib/python3.11/site-packages/sklearn/utils/validation.py:2749: UserWarning: X does not have valid feature names, but LGBMRegressor was fitted with feature names\n",
      "  warnings.warn(\n",
      "/Users/adityasharma/.pyenv/versions/3.11.0/lib/python3.11/site-packages/sklearn/utils/validation.py:2749: UserWarning: X does not have valid feature names, but LGBMRegressor was fitted with feature names\n",
      "  warnings.warn(\n"
     ]
    },
    {
     "name": "stdout",
     "output_type": "stream",
     "text": [
      "[I 2025-10-12 17:08:33,384] Trial 29 finished with value: 52.50707492262112 and parameters: {'n_estimators': 465, 'learning_rate': 0.10158694049718078, 'num_leaves': 73, 'max_depth': 14, 'lambda_l1': 0.0010844391657916811, 'lambda_l2': 0.0070147211486491804, 'feature_fraction': 0.5337248350698263, 'bagging_fraction': 0.9442627542031462, 'bagging_freq': 1, 'min_child_samples': 16}. Best is trial 24 with value: 52.01927680516646.\n"
     ]
    },
    {
     "name": "stderr",
     "output_type": "stream",
     "text": [
      "/Users/adityasharma/.pyenv/versions/3.11.0/lib/python3.11/site-packages/sklearn/utils/validation.py:2749: UserWarning: X does not have valid feature names, but LGBMRegressor was fitted with feature names\n",
      "  warnings.warn(\n",
      "/Users/adityasharma/.pyenv/versions/3.11.0/lib/python3.11/site-packages/sklearn/utils/validation.py:2749: UserWarning: X does not have valid feature names, but LGBMRegressor was fitted with feature names\n",
      "  warnings.warn(\n",
      "/Users/adityasharma/.pyenv/versions/3.11.0/lib/python3.11/site-packages/sklearn/utils/validation.py:2749: UserWarning: X does not have valid feature names, but LGBMRegressor was fitted with feature names\n",
      "  warnings.warn(\n"
     ]
    },
    {
     "name": "stdout",
     "output_type": "stream",
     "text": [
      "[I 2025-10-12 17:11:36,929] Trial 30 finished with value: 53.07231861328788 and parameters: {'n_estimators': 708, 'learning_rate': 0.0760964100828215, 'num_leaves': 133, 'max_depth': 15, 'lambda_l1': 0.2601012415073261, 'lambda_l2': 1.7531100702009156e-05, 'feature_fraction': 0.5061438488981074, 'bagging_fraction': 0.9618513310589335, 'bagging_freq': 3, 'min_child_samples': 72}. Best is trial 24 with value: 52.01927680516646.\n"
     ]
    },
    {
     "name": "stderr",
     "output_type": "stream",
     "text": [
      "/Users/adityasharma/.pyenv/versions/3.11.0/lib/python3.11/site-packages/sklearn/utils/validation.py:2749: UserWarning: X does not have valid feature names, but LGBMRegressor was fitted with feature names\n",
      "  warnings.warn(\n",
      "/Users/adityasharma/.pyenv/versions/3.11.0/lib/python3.11/site-packages/sklearn/utils/validation.py:2749: UserWarning: X does not have valid feature names, but LGBMRegressor was fitted with feature names\n",
      "  warnings.warn(\n",
      "/Users/adityasharma/.pyenv/versions/3.11.0/lib/python3.11/site-packages/sklearn/utils/validation.py:2749: UserWarning: X does not have valid feature names, but LGBMRegressor was fitted with feature names\n",
      "  warnings.warn(\n"
     ]
    },
    {
     "name": "stdout",
     "output_type": "stream",
     "text": [
      "[I 2025-10-12 17:12:52,026] Trial 31 finished with value: 53.473478908256595 and parameters: {'n_estimators': 635, 'learning_rate': 0.09443224088159735, 'num_leaves': 51, 'max_depth': 14, 'lambda_l1': 0.3784706278662184, 'lambda_l2': 0.0036538612631168343, 'feature_fraction': 0.6076045183400248, 'bagging_fraction': 0.9066582285482697, 'bagging_freq': 1, 'min_child_samples': 97}. Best is trial 24 with value: 52.01927680516646.\n"
     ]
    },
    {
     "name": "stderr",
     "output_type": "stream",
     "text": [
      "/Users/adityasharma/.pyenv/versions/3.11.0/lib/python3.11/site-packages/sklearn/utils/validation.py:2749: UserWarning: X does not have valid feature names, but LGBMRegressor was fitted with feature names\n",
      "  warnings.warn(\n",
      "/Users/adityasharma/.pyenv/versions/3.11.0/lib/python3.11/site-packages/sklearn/utils/validation.py:2749: UserWarning: X does not have valid feature names, but LGBMRegressor was fitted with feature names\n",
      "  warnings.warn(\n",
      "/Users/adityasharma/.pyenv/versions/3.11.0/lib/python3.11/site-packages/sklearn/utils/validation.py:2749: UserWarning: X does not have valid feature names, but LGBMRegressor was fitted with feature names\n",
      "  warnings.warn(\n"
     ]
    },
    {
     "name": "stdout",
     "output_type": "stream",
     "text": [
      "[I 2025-10-12 17:16:40,494] Trial 32 finished with value: 52.5939709906238 and parameters: {'n_estimators': 577, 'learning_rate': 0.10391474094843516, 'num_leaves': 29, 'max_depth': 13, 'lambda_l1': 0.054068672284687334, 'lambda_l2': 0.012512977900857779, 'feature_fraction': 0.5609979742238723, 'bagging_fraction': 0.7589401011083052, 'bagging_freq': 1, 'min_child_samples': 16}. Best is trial 24 with value: 52.01927680516646.\n"
     ]
    },
    {
     "name": "stderr",
     "output_type": "stream",
     "text": [
      "/Users/adityasharma/.pyenv/versions/3.11.0/lib/python3.11/site-packages/sklearn/utils/validation.py:2749: UserWarning: X does not have valid feature names, but LGBMRegressor was fitted with feature names\n",
      "  warnings.warn(\n",
      "/Users/adityasharma/.pyenv/versions/3.11.0/lib/python3.11/site-packages/sklearn/utils/validation.py:2749: UserWarning: X does not have valid feature names, but LGBMRegressor was fitted with feature names\n",
      "  warnings.warn(\n",
      "/Users/adityasharma/.pyenv/versions/3.11.0/lib/python3.11/site-packages/sklearn/utils/validation.py:2749: UserWarning: X does not have valid feature names, but LGBMRegressor was fitted with feature names\n",
      "  warnings.warn(\n"
     ]
    },
    {
     "name": "stdout",
     "output_type": "stream",
     "text": [
      "[I 2025-10-12 17:22:00,157] Trial 33 finished with value: 52.11966292967478 and parameters: {'n_estimators': 627, 'learning_rate': 0.11901805599268388, 'num_leaves': 48, 'max_depth': 13, 'lambda_l1': 4.291695346420362, 'lambda_l2': 0.0009955048610104198, 'feature_fraction': 0.6915337095910145, 'bagging_fraction': 0.8734773933577026, 'bagging_freq': 2, 'min_child_samples': 16}. Best is trial 24 with value: 52.01927680516646.\n"
     ]
    },
    {
     "name": "stderr",
     "output_type": "stream",
     "text": [
      "/Users/adityasharma/.pyenv/versions/3.11.0/lib/python3.11/site-packages/sklearn/utils/validation.py:2749: UserWarning: X does not have valid feature names, but LGBMRegressor was fitted with feature names\n",
      "  warnings.warn(\n",
      "/Users/adityasharma/.pyenv/versions/3.11.0/lib/python3.11/site-packages/sklearn/utils/validation.py:2749: UserWarning: X does not have valid feature names, but LGBMRegressor was fitted with feature names\n",
      "  warnings.warn(\n",
      "/Users/adityasharma/.pyenv/versions/3.11.0/lib/python3.11/site-packages/sklearn/utils/validation.py:2749: UserWarning: X does not have valid feature names, but LGBMRegressor was fitted with feature names\n",
      "  warnings.warn(\n"
     ]
    },
    {
     "name": "stdout",
     "output_type": "stream",
     "text": [
      "[I 2025-10-12 17:28:57,820] Trial 34 finished with value: 51.86430760548111 and parameters: {'n_estimators': 676, 'learning_rate': 0.12673280637515055, 'num_leaves': 47, 'max_depth': 16, 'lambda_l1': 4.499067855833139, 'lambda_l2': 0.0011217116405138304, 'feature_fraction': 0.6898423813008058, 'bagging_fraction': 0.9551991412416327, 'bagging_freq': 2, 'min_child_samples': 5}. Best is trial 34 with value: 51.86430760548111.\n"
     ]
    },
    {
     "name": "stderr",
     "output_type": "stream",
     "text": [
      "/Users/adityasharma/.pyenv/versions/3.11.0/lib/python3.11/site-packages/sklearn/utils/validation.py:2749: UserWarning: X does not have valid feature names, but LGBMRegressor was fitted with feature names\n",
      "  warnings.warn(\n",
      "/Users/adityasharma/.pyenv/versions/3.11.0/lib/python3.11/site-packages/sklearn/utils/validation.py:2749: UserWarning: X does not have valid feature names, but LGBMRegressor was fitted with feature names\n",
      "  warnings.warn(\n",
      "/Users/adityasharma/.pyenv/versions/3.11.0/lib/python3.11/site-packages/sklearn/utils/validation.py:2749: UserWarning: X does not have valid feature names, but LGBMRegressor was fitted with feature names\n",
      "  warnings.warn(\n"
     ]
    },
    {
     "name": "stdout",
     "output_type": "stream",
     "text": [
      "[I 2025-10-12 17:33:27,408] Trial 35 finished with value: 51.979899773815795 and parameters: {'n_estimators': 683, 'learning_rate': 0.17396723720503088, 'num_leaves': 27, 'max_depth': 15, 'lambda_l1': 1.9396557898192486, 'lambda_l2': 2.019820769695145, 'feature_fraction': 0.6309355250564104, 'bagging_fraction': 0.9629464167150803, 'bagging_freq': 3, 'min_child_samples': 5}. Best is trial 34 with value: 51.86430760548111.\n"
     ]
    },
    {
     "name": "stderr",
     "output_type": "stream",
     "text": [
      "/Users/adityasharma/.pyenv/versions/3.11.0/lib/python3.11/site-packages/sklearn/utils/validation.py:2749: UserWarning: X does not have valid feature names, but LGBMRegressor was fitted with feature names\n",
      "  warnings.warn(\n",
      "/Users/adityasharma/.pyenv/versions/3.11.0/lib/python3.11/site-packages/sklearn/utils/validation.py:2749: UserWarning: X does not have valid feature names, but LGBMRegressor was fitted with feature names\n",
      "  warnings.warn(\n",
      "/Users/adityasharma/.pyenv/versions/3.11.0/lib/python3.11/site-packages/sklearn/utils/validation.py:2749: UserWarning: X does not have valid feature names, but LGBMRegressor was fitted with feature names\n",
      "  warnings.warn(\n"
     ]
    },
    {
     "name": "stdout",
     "output_type": "stream",
     "text": [
      "[I 2025-10-12 17:37:54,384] Trial 36 finished with value: 51.97220940796466 and parameters: {'n_estimators': 684, 'learning_rate': 0.1831413379923959, 'num_leaves': 31, 'max_depth': 16, 'lambda_l1': 2.3054959692069095, 'lambda_l2': 2.334798304094491, 'feature_fraction': 0.6804026772077232, 'bagging_fraction': 0.9670651253459891, 'bagging_freq': 3, 'min_child_samples': 10}. Best is trial 34 with value: 51.86430760548111.\n"
     ]
    },
    {
     "name": "stderr",
     "output_type": "stream",
     "text": [
      "/Users/adityasharma/.pyenv/versions/3.11.0/lib/python3.11/site-packages/sklearn/utils/validation.py:2749: UserWarning: X does not have valid feature names, but LGBMRegressor was fitted with feature names\n",
      "  warnings.warn(\n",
      "/Users/adityasharma/.pyenv/versions/3.11.0/lib/python3.11/site-packages/sklearn/utils/validation.py:2749: UserWarning: X does not have valid feature names, but LGBMRegressor was fitted with feature names\n",
      "  warnings.warn(\n",
      "/Users/adityasharma/.pyenv/versions/3.11.0/lib/python3.11/site-packages/sklearn/utils/validation.py:2749: UserWarning: X does not have valid feature names, but LGBMRegressor was fitted with feature names\n",
      "  warnings.warn(\n"
     ]
    },
    {
     "name": "stdout",
     "output_type": "stream",
     "text": [
      "[I 2025-10-12 17:42:13,751] Trial 37 finished with value: 51.94260890094311 and parameters: {'n_estimators': 678, 'learning_rate': 0.18466750484639555, 'num_leaves': 25, 'max_depth': 16, 'lambda_l1': 1.7957386069220267, 'lambda_l2': 2.1152050167916294, 'feature_fraction': 0.6927241021451227, 'bagging_fraction': 0.9646734828493987, 'bagging_freq': 3, 'min_child_samples': 10}. Best is trial 34 with value: 51.86430760548111.\n"
     ]
    },
    {
     "name": "stderr",
     "output_type": "stream",
     "text": [
      "/Users/adityasharma/.pyenv/versions/3.11.0/lib/python3.11/site-packages/sklearn/utils/validation.py:2749: UserWarning: X does not have valid feature names, but LGBMRegressor was fitted with feature names\n",
      "  warnings.warn(\n",
      "/Users/adityasharma/.pyenv/versions/3.11.0/lib/python3.11/site-packages/sklearn/utils/validation.py:2749: UserWarning: X does not have valid feature names, but LGBMRegressor was fitted with feature names\n",
      "  warnings.warn(\n",
      "/Users/adityasharma/.pyenv/versions/3.11.0/lib/python3.11/site-packages/sklearn/utils/validation.py:2749: UserWarning: X does not have valid feature names, but LGBMRegressor was fitted with feature names\n",
      "  warnings.warn(\n"
     ]
    },
    {
     "name": "stdout",
     "output_type": "stream",
     "text": [
      "[I 2025-10-12 17:46:27,147] Trial 38 finished with value: 52.008751826955404 and parameters: {'n_estimators': 686, 'learning_rate': 0.1866802466253585, 'num_leaves': 24, 'max_depth': 16, 'lambda_l1': 2.03692402148598, 'lambda_l2': 1.6676874928013692, 'feature_fraction': 0.6892037415444865, 'bagging_fraction': 0.9636377160702561, 'bagging_freq': 3, 'min_child_samples': 11}. Best is trial 34 with value: 51.86430760548111.\n"
     ]
    },
    {
     "name": "stderr",
     "output_type": "stream",
     "text": [
      "/Users/adityasharma/.pyenv/versions/3.11.0/lib/python3.11/site-packages/sklearn/utils/validation.py:2749: UserWarning: X does not have valid feature names, but LGBMRegressor was fitted with feature names\n",
      "  warnings.warn(\n",
      "/Users/adityasharma/.pyenv/versions/3.11.0/lib/python3.11/site-packages/sklearn/utils/validation.py:2749: UserWarning: X does not have valid feature names, but LGBMRegressor was fitted with feature names\n",
      "  warnings.warn(\n",
      "/Users/adityasharma/.pyenv/versions/3.11.0/lib/python3.11/site-packages/sklearn/utils/validation.py:2749: UserWarning: X does not have valid feature names, but LGBMRegressor was fitted with feature names\n",
      "  warnings.warn(\n"
     ]
    },
    {
     "name": "stdout",
     "output_type": "stream",
     "text": [
      "[I 2025-10-12 17:50:19,192] Trial 39 finished with value: 52.345243085692424 and parameters: {'n_estimators': 840, 'learning_rate': 0.1760949530244333, 'num_leaves': 20, 'max_depth': 18, 'lambda_l1': 3.245032757411501, 'lambda_l2': 2.311637238385799, 'feature_fraction': 0.7121388452257036, 'bagging_fraction': 0.9739682740372556, 'bagging_freq': 3, 'min_child_samples': 28}. Best is trial 34 with value: 51.86430760548111.\n"
     ]
    },
    {
     "name": "stderr",
     "output_type": "stream",
     "text": [
      "/Users/adityasharma/.pyenv/versions/3.11.0/lib/python3.11/site-packages/sklearn/utils/validation.py:2749: UserWarning: X does not have valid feature names, but LGBMRegressor was fitted with feature names\n",
      "  warnings.warn(\n",
      "/Users/adityasharma/.pyenv/versions/3.11.0/lib/python3.11/site-packages/sklearn/utils/validation.py:2749: UserWarning: X does not have valid feature names, but LGBMRegressor was fitted with feature names\n",
      "  warnings.warn(\n",
      "/Users/adityasharma/.pyenv/versions/3.11.0/lib/python3.11/site-packages/sklearn/utils/validation.py:2749: UserWarning: X does not have valid feature names, but LGBMRegressor was fitted with feature names\n",
      "  warnings.warn(\n"
     ]
    },
    {
     "name": "stdout",
     "output_type": "stream",
     "text": [
      "[I 2025-10-12 17:54:02,656] Trial 40 finished with value: 52.183938790208686 and parameters: {'n_estimators': 672, 'learning_rate': 0.17374428200566888, 'num_leaves': 36, 'max_depth': 16, 'lambda_l1': 8.226711565979985, 'lambda_l2': 3.5426172889181036, 'feature_fraction': 0.6403406972683837, 'bagging_fraction': 0.9347333505678219, 'bagging_freq': 4, 'min_child_samples': 11}. Best is trial 34 with value: 51.86430760548111.\n"
     ]
    },
    {
     "name": "stderr",
     "output_type": "stream",
     "text": [
      "/Users/adityasharma/.pyenv/versions/3.11.0/lib/python3.11/site-packages/sklearn/utils/validation.py:2749: UserWarning: X does not have valid feature names, but LGBMRegressor was fitted with feature names\n",
      "  warnings.warn(\n",
      "/Users/adityasharma/.pyenv/versions/3.11.0/lib/python3.11/site-packages/sklearn/utils/validation.py:2749: UserWarning: X does not have valid feature names, but LGBMRegressor was fitted with feature names\n",
      "  warnings.warn(\n",
      "/Users/adityasharma/.pyenv/versions/3.11.0/lib/python3.11/site-packages/sklearn/utils/validation.py:2749: UserWarning: X does not have valid feature names, but LGBMRegressor was fitted with feature names\n",
      "  warnings.warn(\n"
     ]
    },
    {
     "name": "stdout",
     "output_type": "stream",
     "text": [
      "[I 2025-10-12 17:58:36,332] Trial 41 finished with value: 51.85776044202393 and parameters: {'n_estimators': 756, 'learning_rate': 0.19641915766032816, 'num_leaves': 26, 'max_depth': 16, 'lambda_l1': 1.1830051590366186, 'lambda_l2': 1.492094689874664, 'feature_fraction': 0.6792588575670022, 'bagging_fraction': 0.9601369004242797, 'bagging_freq': 3, 'min_child_samples': 10}. Best is trial 41 with value: 51.85776044202393.\n"
     ]
    },
    {
     "name": "stderr",
     "output_type": "stream",
     "text": [
      "/Users/adityasharma/.pyenv/versions/3.11.0/lib/python3.11/site-packages/sklearn/utils/validation.py:2749: UserWarning: X does not have valid feature names, but LGBMRegressor was fitted with feature names\n",
      "  warnings.warn(\n",
      "/Users/adityasharma/.pyenv/versions/3.11.0/lib/python3.11/site-packages/sklearn/utils/validation.py:2749: UserWarning: X does not have valid feature names, but LGBMRegressor was fitted with feature names\n",
      "  warnings.warn(\n",
      "/Users/adityasharma/.pyenv/versions/3.11.0/lib/python3.11/site-packages/sklearn/utils/validation.py:2749: UserWarning: X does not have valid feature names, but LGBMRegressor was fitted with feature names\n",
      "  warnings.warn(\n"
     ]
    },
    {
     "name": "stdout",
     "output_type": "stream",
     "text": [
      "[I 2025-10-12 18:03:11,363] Trial 42 finished with value: 51.946146198478736 and parameters: {'n_estimators': 745, 'learning_rate': 0.1991438301376023, 'num_leaves': 28, 'max_depth': 16, 'lambda_l1': 1.8576944211127497, 'lambda_l2': 0.8021533650768228, 'feature_fraction': 0.6692225824465294, 'bagging_fraction': 0.9526443767034323, 'bagging_freq': 3, 'min_child_samples': 11}. Best is trial 41 with value: 51.85776044202393.\n"
     ]
    },
    {
     "name": "stderr",
     "output_type": "stream",
     "text": [
      "/Users/adityasharma/.pyenv/versions/3.11.0/lib/python3.11/site-packages/sklearn/utils/validation.py:2749: UserWarning: X does not have valid feature names, but LGBMRegressor was fitted with feature names\n",
      "  warnings.warn(\n",
      "/Users/adityasharma/.pyenv/versions/3.11.0/lib/python3.11/site-packages/sklearn/utils/validation.py:2749: UserWarning: X does not have valid feature names, but LGBMRegressor was fitted with feature names\n",
      "  warnings.warn(\n",
      "/Users/adityasharma/.pyenv/versions/3.11.0/lib/python3.11/site-packages/sklearn/utils/validation.py:2749: UserWarning: X does not have valid feature names, but LGBMRegressor was fitted with feature names\n",
      "  warnings.warn(\n"
     ]
    },
    {
     "name": "stdout",
     "output_type": "stream",
     "text": [
      "[I 2025-10-12 18:07:01,352] Trial 43 finished with value: 51.95483996784179 and parameters: {'n_estimators': 746, 'learning_rate': 0.19833259165999195, 'num_leaves': 36, 'max_depth': 16, 'lambda_l1': 0.17666587018370536, 'lambda_l2': 9.931884684067182, 'feature_fraction': 0.6707841131305591, 'bagging_fraction': 0.9446241963822695, 'bagging_freq': 4, 'min_child_samples': 19}. Best is trial 41 with value: 51.85776044202393.\n"
     ]
    },
    {
     "name": "stderr",
     "output_type": "stream",
     "text": [
      "/Users/adityasharma/.pyenv/versions/3.11.0/lib/python3.11/site-packages/sklearn/utils/validation.py:2749: UserWarning: X does not have valid feature names, but LGBMRegressor was fitted with feature names\n",
      "  warnings.warn(\n",
      "/Users/adityasharma/.pyenv/versions/3.11.0/lib/python3.11/site-packages/sklearn/utils/validation.py:2749: UserWarning: X does not have valid feature names, but LGBMRegressor was fitted with feature names\n",
      "  warnings.warn(\n",
      "/Users/adityasharma/.pyenv/versions/3.11.0/lib/python3.11/site-packages/sklearn/utils/validation.py:2749: UserWarning: X does not have valid feature names, but LGBMRegressor was fitted with feature names\n",
      "  warnings.warn(\n"
     ]
    },
    {
     "name": "stdout",
     "output_type": "stream",
     "text": [
      "[I 2025-10-12 18:09:47,575] Trial 44 finished with value: 53.235314391677434 and parameters: {'n_estimators': 739, 'learning_rate': 0.1991676849884559, 'num_leaves': 38, 'max_depth': 5, 'lambda_l1': 0.17117786318948713, 'lambda_l2': 0.5579128173424105, 'feature_fraction': 0.7584811344288522, 'bagging_fraction': 0.9308804410097056, 'bagging_freq': 4, 'min_child_samples': 19}. Best is trial 41 with value: 51.85776044202393.\n"
     ]
    },
    {
     "name": "stderr",
     "output_type": "stream",
     "text": [
      "/Users/adityasharma/.pyenv/versions/3.11.0/lib/python3.11/site-packages/sklearn/utils/validation.py:2749: UserWarning: X does not have valid feature names, but LGBMRegressor was fitted with feature names\n",
      "  warnings.warn(\n",
      "/Users/adityasharma/.pyenv/versions/3.11.0/lib/python3.11/site-packages/sklearn/utils/validation.py:2749: UserWarning: X does not have valid feature names, but LGBMRegressor was fitted with feature names\n",
      "  warnings.warn(\n",
      "/Users/adityasharma/.pyenv/versions/3.11.0/lib/python3.11/site-packages/sklearn/utils/validation.py:2749: UserWarning: X does not have valid feature names, but LGBMRegressor was fitted with feature names\n",
      "  warnings.warn(\n"
     ]
    },
    {
     "name": "stdout",
     "output_type": "stream",
     "text": [
      "[I 2025-10-12 18:13:30,627] Trial 45 finished with value: 52.2229571929868 and parameters: {'n_estimators': 758, 'learning_rate': 0.15951396954692854, 'num_leaves': 20, 'max_depth': 18, 'lambda_l1': 0.07805632821071357, 'lambda_l2': 0.17630692457353433, 'feature_fraction': 0.6685461122697213, 'bagging_fraction': 0.946726758247548, 'bagging_freq': 4, 'min_child_samples': 13}. Best is trial 41 with value: 51.85776044202393.\n"
     ]
    },
    {
     "name": "stderr",
     "output_type": "stream",
     "text": [
      "/Users/adityasharma/.pyenv/versions/3.11.0/lib/python3.11/site-packages/sklearn/utils/validation.py:2749: UserWarning: X does not have valid feature names, but LGBMRegressor was fitted with feature names\n",
      "  warnings.warn(\n",
      "/Users/adityasharma/.pyenv/versions/3.11.0/lib/python3.11/site-packages/sklearn/utils/validation.py:2749: UserWarning: X does not have valid feature names, but LGBMRegressor was fitted with feature names\n",
      "  warnings.warn(\n",
      "/Users/adityasharma/.pyenv/versions/3.11.0/lib/python3.11/site-packages/sklearn/utils/validation.py:2749: UserWarning: X does not have valid feature names, but LGBMRegressor was fitted with feature names\n",
      "  warnings.warn(\n"
     ]
    },
    {
     "name": "stdout",
     "output_type": "stream",
     "text": [
      "[I 2025-10-12 18:17:17,526] Trial 46 finished with value: 51.96292168141425 and parameters: {'n_estimators': 825, 'learning_rate': 0.16286615398080623, 'num_leaves': 37, 'max_depth': 19, 'lambda_l1': 1.0404685662543842, 'lambda_l2': 8.53385246312212, 'feature_fraction': 0.7138814124063483, 'bagging_fraction': 0.9852374719131199, 'bagging_freq': 6, 'min_child_samples': 26}. Best is trial 41 with value: 51.85776044202393.\n"
     ]
    },
    {
     "name": "stderr",
     "output_type": "stream",
     "text": [
      "/Users/adityasharma/.pyenv/versions/3.11.0/lib/python3.11/site-packages/sklearn/utils/validation.py:2749: UserWarning: X does not have valid feature names, but LGBMRegressor was fitted with feature names\n",
      "  warnings.warn(\n",
      "/Users/adityasharma/.pyenv/versions/3.11.0/lib/python3.11/site-packages/sklearn/utils/validation.py:2749: UserWarning: X does not have valid feature names, but LGBMRegressor was fitted with feature names\n",
      "  warnings.warn(\n",
      "/Users/adityasharma/.pyenv/versions/3.11.0/lib/python3.11/site-packages/sklearn/utils/validation.py:2749: UserWarning: X does not have valid feature names, but LGBMRegressor was fitted with feature names\n",
      "  warnings.warn(\n"
     ]
    },
    {
     "name": "stdout",
     "output_type": "stream",
     "text": [
      "[I 2025-10-12 18:23:01,001] Trial 47 finished with value: 52.21092088402602 and parameters: {'n_estimators': 897, 'learning_rate': 0.19762232875570604, 'num_leaves': 30, 'max_depth': 10, 'lambda_l1': 8.389707154875977, 'lambda_l2': 0.8757676042749918, 'feature_fraction': 0.6574917544985645, 'bagging_fraction': 0.9155544518379228, 'bagging_freq': 2, 'min_child_samples': 19}. Best is trial 41 with value: 51.85776044202393.\n"
     ]
    },
    {
     "name": "stderr",
     "output_type": "stream",
     "text": [
      "/Users/adityasharma/.pyenv/versions/3.11.0/lib/python3.11/site-packages/sklearn/utils/validation.py:2749: UserWarning: X does not have valid feature names, but LGBMRegressor was fitted with feature names\n",
      "  warnings.warn(\n",
      "/Users/adityasharma/.pyenv/versions/3.11.0/lib/python3.11/site-packages/sklearn/utils/validation.py:2749: UserWarning: X does not have valid feature names, but LGBMRegressor was fitted with feature names\n",
      "  warnings.warn(\n",
      "/Users/adityasharma/.pyenv/versions/3.11.0/lib/python3.11/site-packages/sklearn/utils/validation.py:2749: UserWarning: X does not have valid feature names, but LGBMRegressor was fitted with feature names\n",
      "  warnings.warn(\n"
     ]
    },
    {
     "name": "stdout",
     "output_type": "stream",
     "text": [
      "[I 2025-10-12 18:26:49,251] Trial 48 finished with value: 51.80433515928136 and parameters: {'n_estimators': 761, 'learning_rate': 0.1884930281597436, 'num_leaves': 41, 'max_depth': 17, 'lambda_l1': 0.040587974507707486, 'lambda_l2': 2.538242194369503e-06, 'feature_fraction': 0.7302844764184871, 'bagging_fraction': 0.8115111618141515, 'bagging_freq': 5, 'min_child_samples': 9}. Best is trial 48 with value: 51.80433515928136.\n"
     ]
    },
    {
     "name": "stderr",
     "output_type": "stream",
     "text": [
      "/Users/adityasharma/.pyenv/versions/3.11.0/lib/python3.11/site-packages/sklearn/utils/validation.py:2749: UserWarning: X does not have valid feature names, but LGBMRegressor was fitted with feature names\n",
      "  warnings.warn(\n",
      "/Users/adityasharma/.pyenv/versions/3.11.0/lib/python3.11/site-packages/sklearn/utils/validation.py:2749: UserWarning: X does not have valid feature names, but LGBMRegressor was fitted with feature names\n",
      "  warnings.warn(\n",
      "/Users/adityasharma/.pyenv/versions/3.11.0/lib/python3.11/site-packages/sklearn/utils/validation.py:2749: UserWarning: X does not have valid feature names, but LGBMRegressor was fitted with feature names\n",
      "  warnings.warn(\n"
     ]
    },
    {
     "name": "stdout",
     "output_type": "stream",
     "text": [
      "[I 2025-10-12 18:29:20,471] Trial 49 finished with value: 52.38887911869534 and parameters: {'n_estimators': 802, 'learning_rate': 0.1869305575488479, 'num_leaves': 43, 'max_depth': 17, 'lambda_l1': 0.0037698516760839734, 'lambda_l2': 4.9996883433047355e-08, 'feature_fraction': 0.7667582949325866, 'bagging_fraction': 0.8054205164576473, 'bagging_freq': 6, 'min_child_samples': 38}. Best is trial 48 with value: 51.80433515928136.\n",
      "\n",
      "--- Tuning Complete ---\n",
      "Best cross-validated SMAPE Score: 51.8043\n",
      "\n",
      "Best Parameters Found:\n",
      "- n_estimators: 761\n",
      "- learning_rate: 0.1884930281597436\n",
      "- num_leaves: 41\n",
      "- max_depth: 17\n",
      "- lambda_l1: 0.040587974507707486\n",
      "- lambda_l2: 2.538242194369503e-06\n",
      "- feature_fraction: 0.7302844764184871\n",
      "- bagging_fraction: 0.8115111618141515\n",
      "- bagging_freq: 5\n",
      "- min_child_samples: 9\n"
     ]
    }
   ],
   "source": [
    "import numpy as np\n",
    "import pandas as pd\n",
    "import lightgbm as lgb\n",
    "import optuna\n",
    "from sklearn.feature_extraction.text import TfidfVectorizer\n",
    "from sklearn.model_selection import KFold\n",
    "import time\n",
    "\n",
    "# --- 1. Data Loading ---\n",
    "file_path = '/Users/adityasharma/Github Projects/Amazon/input/train.csv'\n",
    "try:\n",
    "    df = pd.read_csv(file_path)\n",
    "    df = df.dropna(subset=['price'])\n",
    "    df['catalog_content'] = df['catalog_content'].astype(str).fillna('')\n",
    "    print(\"Data loaded successfully.\")\n",
    "except FileNotFoundError:\n",
    "    print(f\"ERROR: File not found at {file_path}. Halting execution.\")\n",
    "    raise\n",
    "\n",
    "# --- 2. Expensive Pre-computation (Done Once) ---\n",
    "print(\"Performing one-time text vectorization...\")\n",
    "start_time = time.time()\n",
    "vectorizer = TfidfVectorizer(stop_words='english', max_features=30000, ngram_range=(1, 2))\n",
    "X_transformed = vectorizer.fit_transform(df['catalog_content'])\n",
    "y = df['price']\n",
    "y_log = np.log1p(y)\n",
    "end_time = time.time()\n",
    "print(f\"Vectorization complete in {end_time - start_time:.2f} seconds.\")\n",
    "\n",
    "# --- 3. SMAPE Scorer ---\n",
    "# This function is now called inside our manual loop.\n",
    "def smape(y_true, y_pred_log):\n",
    "    y_pred = np.expm1(y_pred_log)\n",
    "    y_pred[y_pred < 0] = 0\n",
    "    numerator = np.abs(y_pred - y_true)\n",
    "    denominator = (np.abs(y_true) + np.abs(y_pred)) / 2\n",
    "    score = np.mean(\n",
    "        np.divide(numerator, denominator, out=np.zeros_like(numerator, dtype=float), where=denominator!=0)\n",
    "    ) * 100\n",
    "    return score\n",
    "\n",
    "# --- 4. Define the CORRECTED Objective Function ---\n",
    "def objective(trial):\n",
    "    params = {\n",
    "        'objective': 'regression_l1', 'metric': 'mae',\n",
    "        'n_estimators': trial.suggest_int('n_estimators', 200, 1000),\n",
    "        'learning_rate': trial.suggest_float('learning_rate', 0.01, 0.2),\n",
    "        'num_leaves': trial.suggest_int('num_leaves', 20, 150),\n",
    "        'max_depth': trial.suggest_int('max_depth', 3, 20),\n",
    "        'lambda_l1': trial.suggest_float('lambda_l1', 1e-8, 10.0, log=True),\n",
    "        'lambda_l2': trial.suggest_float('lambda_l2', 1e-8, 10.0, log=True),\n",
    "        'feature_fraction': trial.suggest_float('feature_fraction', 0.5, 1.0),\n",
    "        'bagging_fraction': trial.suggest_float('bagging_fraction', 0.5, 1.0),\n",
    "        'bagging_freq': trial.suggest_int('bagging_freq', 1, 7),\n",
    "        'min_child_samples': trial.suggest_int('min_child_samples', 5, 100),\n",
    "        'random_state': 42, 'n_jobs': -1, 'verbose': -1\n",
    "    }\n",
    "    \n",
    "    model = lgb.LGBMRegressor(**params)\n",
    "    kf = KFold(n_splits=3, shuffle=True, random_state=42)\n",
    "    scores = []\n",
    "\n",
    "    # --- Manual Cross-Validation Loop ---\n",
    "    for train_index, val_index in kf.split(X_transformed):\n",
    "        # Split data for this fold\n",
    "        X_train, X_val = X_transformed[train_index], X_transformed[val_index]\n",
    "        y_log_train, y_log_val = y_log.iloc[train_index], y_log.iloc[val_index]\n",
    "        y_true_val = y.iloc[val_index] # Get original price for scoring\n",
    "\n",
    "        # Train the model\n",
    "        model.fit(X_train, y_log_train)\n",
    "        \n",
    "        # Predict and score\n",
    "        preds_log = model.predict(X_val)\n",
    "        fold_score = smape(y_true_val, preds_log)\n",
    "        scores.append(fold_score)\n",
    "    \n",
    "    return np.mean(scores)\n",
    "\n",
    "# --- 5. Run the Optimization Study ---\n",
    "study = optuna.create_study(direction='minimize')\n",
    "print(\"Starting hyperparameter tuning with corrected CV loop...\")\n",
    "study.optimize(objective, n_trials=50, show_progress_bar=True)\n",
    "\n",
    "# --- 6. Output the Results ---\n",
    "print(\"\\n--- Tuning Complete ---\")\n",
    "print(f\"Best cross-validated SMAPE Score: {study.best_value:.4f}\")\n",
    "print(\"\\nBest Parameters Found:\")\n",
    "for key, value in study.best_params.items():\n",
    "    print(f\"- {key}: {value}\")"
   ]
  },
  {
   "cell_type": "code",
   "execution_count": null,
   "id": "61af7d96",
   "metadata": {},
   "outputs": [],
   "source": []
  }
 ],
 "metadata": {
  "kernelspec": {
   "display_name": "Python (housing-price-prediction)",
   "language": "python",
   "name": "housing-price-prediction"
  },
  "language_info": {
   "codemirror_mode": {
    "name": "ipython",
    "version": 3
   },
   "file_extension": ".py",
   "mimetype": "text/x-python",
   "name": "python",
   "nbconvert_exporter": "python",
   "pygments_lexer": "ipython3",
   "version": "3.11.0"
  }
 },
 "nbformat": 4,
 "nbformat_minor": 5
}
