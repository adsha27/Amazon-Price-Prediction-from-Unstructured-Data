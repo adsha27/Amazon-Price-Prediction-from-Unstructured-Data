{
 "cells": [
  {
   "cell_type": "code",
   "execution_count": 2,
   "id": "61551e75",
   "metadata": {},
   "outputs": [
    {
     "name": "stdout",
     "output_type": "stream",
     "text": [
      "Training data and final model loaded.\n",
      "Analyzing errors on a validation set of 15000 samples.\n"
     ]
    },
    {
     "name": "stderr",
     "output_type": "stream",
     "text": [
      "/Users/adityasharma/.pyenv/versions/3.11.0/lib/python3.11/site-packages/sklearn/utils/validation.py:2749: UserWarning: X does not have valid feature names, but LGBMRegressor was fitted with feature names\n",
      "  warnings.warn(\n"
     ]
    },
    {
     "name": "stdout",
     "output_type": "stream",
     "text": [
      "\n",
      "--- Advanced Evaluation Diagnostics ---\n",
      "\n",
      "SMAPE Performance by Category:\n",
      "category\n",
      "unknown          60.829526\n",
      "health_beauty    52.031483\n",
      "home_goods       49.533672\n",
      "grocery          46.398252\n",
      "electronics      41.451678\n",
      "dtype: float64\n",
      "\n",
      "SMAPE Performance by Granular Price Tier:\n",
      "price_tier\n",
      "(0.0, 20.0]         48.266161\n",
      "(20.0, 50.0]        51.577645\n",
      "(50.0, 100.0]       67.876806\n",
      "(100.0, 250.0]      89.750208\n",
      "(250.0, 500.0]     141.530743\n",
      "(500.0, 1000.0]    174.182146\n",
      "(1000.0, inf]      187.236507\n",
      "dtype: float64\n"
     ]
    },
    {
     "name": "stderr",
     "output_type": "stream",
     "text": [
      "/var/folders/1k/7lydcyq13sl0zlx371zkb4xc0000gn/T/ipykernel_24889/3233611927.py:61: FutureWarning: DataFrameGroupBy.apply operated on the grouping columns. This behavior is deprecated, and in a future version of pandas the grouping columns will be excluded from the operation. Either pass `include_groups=False` to exclude the groupings or explicitly select the grouping columns after groupby to silence this warning.\n",
      "  category_performance = analysis_df.groupby('category').apply(smape_group).sort_values(ascending=False)\n",
      "/var/folders/1k/7lydcyq13sl0zlx371zkb4xc0000gn/T/ipykernel_24889/3233611927.py:69: FutureWarning: The default of observed=False is deprecated and will be changed to True in a future version of pandas. Pass observed=False to retain current behavior or observed=True to adopt the future default and silence this warning.\n",
      "  tier_performance = analysis_df.groupby('price_tier').apply(smape_group)\n",
      "/var/folders/1k/7lydcyq13sl0zlx371zkb4xc0000gn/T/ipykernel_24889/3233611927.py:69: FutureWarning: DataFrameGroupBy.apply operated on the grouping columns. This behavior is deprecated, and in a future version of pandas the grouping columns will be excluded from the operation. Either pass `include_groups=False` to exclude the groupings or explicitly select the grouping columns after groupby to silence this warning.\n",
      "  tier_performance = analysis_df.groupby('price_tier').apply(smape_group)\n"
     ]
    }
   ],
   "source": [
    "import pandas as pd\n",
    "import numpy as np\n",
    "import joblib\n",
    "from sklearn.model_selection import train_test_split\n",
    "from sklearn.feature_extraction.text import CountVectorizer\n",
    "import re # Added for title extraction\n",
    "\n",
    "# --- 1. Load Data and Final Model ---\n",
    "train_df = pd.read_csv('/Users/adityasharma/Github Projects/Amazon/input/train.csv')\n",
    "train_df = train_df.dropna(subset=['price'])\n",
    "train_df['catalog_content'] = train_df['catalog_content'].astype(str).fillna('')\n",
    "\n",
    "model_filename = 'lgbm_price_model_v1.joblib'\n",
    "final_pipeline = joblib.load(model_filename)\n",
    "print(\"Training data and final model loaded.\")\n",
    "\n",
    "# --- 2. Create the Validation Set ---\n",
    "X = train_df['catalog_content']\n",
    "y = train_df['price']\n",
    "X_train, X_val, y_train, y_val = train_test_split(X, y, test_size=0.2, random_state=42)\n",
    "print(f\"Analyzing errors on a validation set of {len(X_val)} samples.\")\n",
    "\n",
    "# --- 3. Make Predictions and Create Analysis DataFrame ---\n",
    "val_preds_log = final_pipeline.predict(X_val)\n",
    "val_preds = np.expm1(val_preds_log)\n",
    "val_preds[val_preds < 0] = 0\n",
    "\n",
    "def smape(y_true, y_pred):\n",
    "    numerator = np.abs(y_pred - y_true)\n",
    "    denominator = (np.abs(y_true) + np.abs(y_pred)) / 2\n",
    "    return np.mean(np.divide(numerator, denominator, out=np.zeros_like(numerator, dtype=float), where=denominator!=0)) * 100\n",
    "\n",
    "analysis_df = pd.DataFrame({\n",
    "    'catalog_content': X_val,\n",
    "    'price': y_val,\n",
    "    'predicted_price': val_preds\n",
    "})\n",
    "analysis_df['smape_error'] = smape(analysis_df['price'], analysis_df['predicted_price'])\n",
    "\n",
    "\n",
    "# --- 4. Advanced Evaluation Diagnostics ---\n",
    "print(\"\\n--- Advanced Evaluation Diagnostics ---\")\n",
    "\n",
    "# --- Per-Category SMAPE (as before) ---\n",
    "def categorize_product(text):\n",
    "    text = text.lower()\n",
    "    category_map = {\n",
    "        'electronics': ['phone', 'camera', 'tv', 'laptop', 'headphone'],\n",
    "        'grocery': ['coffee', 'tea', 'snack', 'organic', 'sugar', 'candy'],\n",
    "        'home_goods': ['shed', 'furniture', 'kitchen', 'decor', 'towel'],\n",
    "        'health_beauty': ['cream', 'shampoo', 'lotion', 'vitamin']\n",
    "    }\n",
    "    for cat, keys in category_map.items():\n",
    "        if any(key in text for key in keys): return cat\n",
    "    return 'unknown'\n",
    "analysis_df['category'] = analysis_df['catalog_content'].apply(categorize_product)\n",
    "\n",
    "def smape_group(group):\n",
    "    return smape(group['price'], group['predicted_price'])\n",
    "\n",
    "category_performance = analysis_df.groupby('category').apply(smape_group).sort_values(ascending=False)\n",
    "print(\"\\nSMAPE Performance by Category:\")\n",
    "print(category_performance)\n",
    "\n",
    "# --- NEW: Granular Price Tier SMAPE ---\n",
    "# We define more, smaller bins to get a clearer picture.\n",
    "price_bins = [0, 20, 50, 100, 250, 500, 1000, np.inf]\n",
    "analysis_df['price_tier'] = pd.cut(analysis_df['price'], bins=price_bins)\n",
    "tier_performance = analysis_df.groupby('price_tier').apply(smape_group)\n",
    "\n",
    "print(\"\\nSMAPE Performance by Granular Price Tier:\")\n",
    "print(tier_performance)"
   ]
  },
  {
   "cell_type": "code",
   "execution_count": null,
   "id": "c03d4d5b",
   "metadata": {},
   "outputs": [],
   "source": []
  }
 ],
 "metadata": {
  "kernelspec": {
   "display_name": "Python (housing-price-prediction)",
   "language": "python",
   "name": "housing-price-prediction"
  },
  "language_info": {
   "codemirror_mode": {
    "name": "ipython",
    "version": 3
   },
   "file_extension": ".py",
   "mimetype": "text/x-python",
   "name": "python",
   "nbconvert_exporter": "python",
   "pygments_lexer": "ipython3",
   "version": "3.11.0"
  }
 },
 "nbformat": 4,
 "nbformat_minor": 5
}
