{
 "cells": [
  {
   "cell_type": "code",
   "execution_count": 4,
   "id": "0b172143",
   "metadata": {},
   "outputs": [],
   "source": [
    "import pandas as pd\n",
    "import numpy as np\n",
    "import re\n",
    "from collections import Counter\n",
    "from sklearn.feature_extraction.text import TfidfVectorizer\n",
    "from sklearn.model_selection import train_test_split\n",
    "from sklearn.compose import ColumnTransformer\n",
    "from sklearn.pipeline import Pipeline\n",
    "import lightgbm as lgb"
   ]
  },
  {
   "cell_type": "code",
   "execution_count": 5,
   "id": "5696d2b1",
   "metadata": {},
   "outputs": [
    {
     "name": "stdout",
     "output_type": "stream",
     "text": [
      "Data loaded successfully.\n"
     ]
    }
   ],
   "source": [
    "file_path = '/Users/adityasharma/Github Projects/Amazon/input/train.csv'\n",
    "train_df = pd.read_csv(file_path)\n",
    "train_df = train_df.dropna(subset=['price'])\n",
    "train_df['catalog_content'] = train_df['catalog_content'].astype(str).fillna('')\n",
    "print(\"Data loaded successfully.\")\n"
   ]
  },
  {
   "cell_type": "code",
   "execution_count": 6,
   "id": "c38e00a5",
   "metadata": {},
   "outputs": [
    {
     "name": "stdout",
     "output_type": "stream",
     "text": [
      "\n",
      "--- Step 2: Discovering Keywords from Data ---\n",
      "Calculating correlations for accessory keywords...\n",
      "Discovered Accessory Keywords: ['oz', 'fl oz', 'fl', 'ounce', 'seasoning', 'mix', '16 oz', 'campbell', 'soup', 'goya', 'sauce', '12 oz', 'bottle', 'betty crocker', 'crocker', 'chicken', 'betty', 'ounce pack', '16', 'amazon']\n",
      "Discovered Quantity Units: ['unit', 'oz', 'ounce', 'pack', 'minutes', 'fl', 'count', 'calories', 'tea', 'cups', 'ounces', 'lb', 'grams', 'years', 'bullet']\n"
     ]
    }
   ],
   "source": [
    "print(\"\\n--- Step 2: Discovering Keywords from Data ---\")\n",
    "\n",
    "# --- Accessory Keyword Discovery (Correlation Method) ---\n",
    "def extract_title(text):\n",
    "    match = re.search(r'^item name:\\s*(.*)', text, re.IGNORECASE | re.MULTILINE)\n",
    "    return match.group(1).strip() if match else ''\n",
    "train_df['title'] = train_df['catalog_content'].apply(extract_title).fillna('')\n",
    "\n",
    "vectorizer = TfidfVectorizer(stop_words='english', ngram_range=(1, 3), max_features=5000)\n",
    "tfidf_matrix = vectorizer.fit_transform(train_df['title'])\n",
    "tfidf_df = pd.DataFrame(tfidf_matrix.toarray(), columns=vectorizer.get_feature_names_out(), index=train_df.index)\n",
    "tfidf_df['price'] = train_df['price']\n",
    "\n",
    "print(\"Calculating correlations for accessory keywords...\")\n",
    "correlations = tfidf_df.corr()['price'].drop('price')\n",
    "# Programmatically select the top 20 terms most negatively correlated with price\n",
    "DATA_DRIVEN_ACCESSORY_KEYWORDS = correlations.sort_values(ascending=True).head(20).index.tolist()\n",
    "print(f\"Discovered Accessory Keywords: {DATA_DRIVEN_ACCESSORY_KEYWORDS}\")\n",
    "\n",
    "# --- Quantity Pattern Discovery ---\n",
    "pattern = re.compile(r'(\\d+)\\s+([a-zA-Z]{2,})')\n",
    "all_units = [match[1] for text in train_df['catalog_content'] for match in pattern.findall(text.lower())]\n",
    "unit_counts = Counter(all_units)\n",
    "# Programmatically select the top 15 most common unit terms\n",
    "DATA_DRIVEN_QUANTITY_UNITS = [unit for unit, count in unit_counts.most_common(15)]\n",
    "print(f\"Discovered Quantity Units: {DATA_DRIVEN_QUANTITY_UNITS}\")"
   ]
  },
  {
   "cell_type": "code",
   "execution_count": null,
   "id": "3f654b30",
   "metadata": {},
   "outputs": [],
   "source": []
  }
 ],
 "metadata": {
  "kernelspec": {
   "display_name": "Python (housing-price-prediction)",
   "language": "python",
   "name": "housing-price-prediction"
  },
  "language_info": {
   "codemirror_mode": {
    "name": "ipython",
    "version": 3
   },
   "file_extension": ".py",
   "mimetype": "text/x-python",
   "name": "python",
   "nbconvert_exporter": "python",
   "pygments_lexer": "ipython3",
   "version": "3.11.0"
  }
 },
 "nbformat": 4,
 "nbformat_minor": 5
}
