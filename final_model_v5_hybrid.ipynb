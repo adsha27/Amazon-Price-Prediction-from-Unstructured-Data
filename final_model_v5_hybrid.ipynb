{
 "cells": [
  {
   "cell_type": "code",
   "execution_count": 1,
   "id": "bd7d3195",
   "metadata": {},
   "outputs": [
    {
     "name": "stdout",
     "output_type": "stream",
     "text": [
      "Quantity feature created.\n",
      "\n",
      "Training V5 model (V1 + quantity)...\n",
      "\n",
      "Evaluating V5 model...\n",
      "\n",
      "--- Model Performance Comparison ---\n",
      "V1 Model SMAPE (tuned, text only): 51.9241\n",
      "V5 Model SMAPE (text + quantity): 51.5754\n"
     ]
    }
   ],
   "source": [
    "import numpy as np\n",
    "import pandas as pd\n",
    "import lightgbm as lgb\n",
    "import re\n",
    "from sklearn.feature_extraction.text import TfidfVectorizer\n",
    "from sklearn.pipeline import Pipeline\n",
    "from sklearn.compose import ColumnTransformer\n",
    "from sklearn.model_selection import train_test_split\n",
    "import warnings\n",
    "warnings.filterwarnings(\"ignore\", category=UserWarning)\n",
    "\n",
    "# --- 1. Load Data & Define Feature Functions ---\n",
    "train_df = pd.read_csv('/Users/adityasharma/Github Projects/Amazon/input/train.csv')\n",
    "train_df = train_df.dropna(subset=['price'])\n",
    "train_df['catalog_content'] = train_df['catalog_content'].astype(str).fillna('')\n",
    "\n",
    "def extract_quantity(text):\n",
    "    text = text.lower()\n",
    "    patterns = [r'pack of (\\d+)', r'(\\d+)\\s*[-]?pack', r'(\\d+)\\s*pk', r'(\\d+)\\s*per case', r'case of (\\d+)', r'(\\d+)\\s*count']\n",
    "    for pattern in patterns:\n",
    "        match = re.search(pattern, text)\n",
    "        if match: return int(match.group(1))\n",
    "    return 1\n",
    "\n",
    "train_df['quantity'] = train_df['catalog_content'].apply(extract_quantity)\n",
    "print(\"Quantity feature created.\")\n",
    "\n",
    "# --- 2. Create Hold-Out Set ---\n",
    "X = train_df[['catalog_content', 'quantity']]\n",
    "y = train_df['price']\n",
    "X_train, X_val, y_train, y_val = train_test_split(X, y, test_size=0.2, random_state=42)\n",
    "y_train_log = np.log1p(y_train)\n",
    "\n",
    "# --- 3. Build the Hybrid V5 Pipeline ---\n",
    "best_params = { 'objective': 'regression_l1', 'metric': 'mae', 'n_estimators': 761, 'learning_rate': 0.188, 'num_leaves': 41, 'max_depth': 17, 'lambda_l1': 0.04, 'lambda_l2': 2.53e-06, 'feature_fraction': 0.73, 'bagging_fraction': 0.81, 'bagging_freq': 5, 'min_child_samples': 9, 'random_state': 42, 'n_jobs': -1, 'verbose': -1 }\n",
    "\n",
    "preprocessor = ColumnTransformer(\n",
    "    transformers=[\n",
    "        ('text', TfidfVectorizer(stop_words='english', max_features=30000, ngram_range=(1, 2)), 'catalog_content'),\n",
    "        ('numeric', 'passthrough', ['quantity'])\n",
    "    ])\n",
    "\n",
    "pipeline_v5 = Pipeline(steps=[('preprocessor', preprocessor), ('regressor', lgb.LGBMRegressor(**best_params))])\n",
    "\n",
    "# --- 4. Train and Evaluate the V5 Model ---\n",
    "print(\"\\nTraining V5 model (V1 + quantity)...\")\n",
    "pipeline_v5.fit(X_train, y_train_log)\n",
    "\n",
    "print(\"\\nEvaluating V5 model...\")\n",
    "val_preds_log = pipeline_v5.predict(X_val)\n",
    "val_preds = np.expm1(val_preds_log)\n",
    "val_preds[val_preds < 0] = 0\n",
    "\n",
    "def smape(y_true, y_pred):\n",
    "    numerator = np.abs(y_pred - y_true)\n",
    "    denominator = (np.abs(y_true) + np.abs(y_pred)) / 2\n",
    "    return np.mean(np.divide(numerator, denominator, out=np.zeros_like(numerator, dtype=float), where=denominator!=0)) * 100\n",
    "\n",
    "v5_smape = smape(y_val, val_preds)\n",
    "\n",
    "print(\"\\n--- Model Performance Comparison ---\")\n",
    "print(f\"V1 Model SMAPE (tuned, text only): 51.9241\")\n",
    "print(f\"V5 Model SMAPE (text + quantity): {v5_smape:.4f}\")"
   ]
  },
  {
   "cell_type": "code",
   "execution_count": null,
   "id": "07517885",
   "metadata": {},
   "outputs": [],
   "source": []
  }
 ],
 "metadata": {
  "kernelspec": {
   "display_name": "Python (housing-price-prediction)",
   "language": "python",
   "name": "housing-price-prediction"
  },
  "language_info": {
   "codemirror_mode": {
    "name": "ipython",
    "version": 3
   },
   "file_extension": ".py",
   "mimetype": "text/x-python",
   "name": "python",
   "nbconvert_exporter": "python",
   "pygments_lexer": "ipython3",
   "version": "3.11.0"
  }
 },
 "nbformat": 4,
 "nbformat_minor": 5
}
